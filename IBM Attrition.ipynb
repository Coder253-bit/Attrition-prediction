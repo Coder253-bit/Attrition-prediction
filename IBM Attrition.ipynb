{
 "cells": [
  {
   "cell_type": "markdown",
   "id": "5573b14c",
   "metadata": {},
   "source": [
    "# IBM Attrition Prediction\n",
    "\n",
    "Link to metadata: http://inseaddataanalytics.github.io/INSEADAnalytics/groupprojects/January2018FBL/IBM_Attrition_VSS.html"
   ]
  },
  {
   "cell_type": "markdown",
   "id": "782f3601",
   "metadata": {},
   "source": [
    "- [Importing libraries and dataset](#Importing-libraries-and-dataset)\n",
    "- [Data Transformation](#Data-Transformation)\n",
    "  - [One Hot Encoding](#One-Hot-Encoding)\n",
    "  - [Train-test split](#Train-test-split)\n",
    "  - [Scaling](#Scaling)\n",
    "- [Explanatory Data Analysis](#Exploratory-Data-Analysis)\n",
    "- [Model Building - Logistic Regression](#Model-Building---Logistic-Regression)\n",
    "  - [Using RFE for feature selection](#Using-RFE-for-feature-selection)\n",
    "  - [Checking metrics](#Checking-metrics)\n",
    "    - [ROC Curve from Model 1](#ROC-Curve-from-Model-1)\n",
    "  - [Handling Class Imbalanced data](#Handling-Class-Imbalanced-data)\n",
    "  - [1. Oversampling](#1.-Oversampling)\n",
    "    - [ROC Curve from Model 2](#ROC-Curve-from-Model-2)\n",
    "  - [2. Undersampling](#2.-Undersampling)\n",
    "    - [ROC Curve from Model 3](#ROC-Curve-from-Model-3)\n",
    "  - [3. Using SMOTE: Synthetic Minority Oversampling Technique](#3.-Using-SMOTE:-Synthetic-Minority-Oversampling-Technique)\n",
    "    - [ROC Curve from Model 4](#ROC-Curve-from-Model-4)"
   ]
  },
  {
   "cell_type": "markdown",
   "id": "d94f2ac1",
   "metadata": {},
   "source": [
    "### Importing libraries and dataset"
   ]
  },
  {
   "cell_type": "code",
   "execution_count": 2,
   "id": "87aea7b5",
   "metadata": {},
   "outputs": [
    {
     "data": {
      "text/html": [
       "<div>\n",
       "<style scoped>\n",
       "    .dataframe tbody tr th:only-of-type {\n",
       "        vertical-align: middle;\n",
       "    }\n",
       "\n",
       "    .dataframe tbody tr th {\n",
       "        vertical-align: top;\n",
       "    }\n",
       "\n",
       "    .dataframe thead th {\n",
       "        text-align: right;\n",
       "    }\n",
       "</style>\n",
       "<table border=\"1\" class=\"dataframe\">\n",
       "  <thead>\n",
       "    <tr style=\"text-align: right;\">\n",
       "      <th></th>\n",
       "      <th>Age</th>\n",
       "      <th>Attrition</th>\n",
       "      <th>BusinessTravel</th>\n",
       "      <th>DailyRate</th>\n",
       "      <th>Department</th>\n",
       "      <th>DistanceFromHome</th>\n",
       "      <th>Education</th>\n",
       "      <th>EducationField</th>\n",
       "      <th>EmployeeCount</th>\n",
       "      <th>EmployeeNumber</th>\n",
       "      <th>EnvironmentSatisfaction</th>\n",
       "      <th>Gender</th>\n",
       "      <th>HourlyRate</th>\n",
       "      <th>JobInvolvement</th>\n",
       "      <th>JobLevel</th>\n",
       "      <th>JobRole</th>\n",
       "      <th>JobSatisfaction</th>\n",
       "      <th>MaritalStatus</th>\n",
       "      <th>MonthlyIncome</th>\n",
       "      <th>MonthlyRate</th>\n",
       "      <th>NumCompaniesWorked</th>\n",
       "      <th>Over18</th>\n",
       "      <th>OverTime</th>\n",
       "      <th>PercentSalaryHike</th>\n",
       "      <th>PerformanceRating</th>\n",
       "      <th>RelationshipSatisfaction</th>\n",
       "      <th>StandardHours</th>\n",
       "      <th>StockOptionLevel</th>\n",
       "      <th>TotalWorkingYears</th>\n",
       "      <th>TrainingTimesLastYear</th>\n",
       "      <th>WorkLifeBalance</th>\n",
       "      <th>YearsAtCompany</th>\n",
       "      <th>YearsInCurrentRole</th>\n",
       "      <th>YearsSinceLastPromotion</th>\n",
       "      <th>YearsWithCurrManager</th>\n",
       "    </tr>\n",
       "  </thead>\n",
       "  <tbody>\n",
       "    <tr>\n",
       "      <th>0</th>\n",
       "      <td>41</td>\n",
       "      <td>Yes</td>\n",
       "      <td>Travel_Rarely</td>\n",
       "      <td>1102</td>\n",
       "      <td>Sales</td>\n",
       "      <td>1</td>\n",
       "      <td>2</td>\n",
       "      <td>Life Sciences</td>\n",
       "      <td>1</td>\n",
       "      <td>1</td>\n",
       "      <td>2</td>\n",
       "      <td>Female</td>\n",
       "      <td>94</td>\n",
       "      <td>3</td>\n",
       "      <td>2</td>\n",
       "      <td>Sales Executive</td>\n",
       "      <td>4</td>\n",
       "      <td>Single</td>\n",
       "      <td>5993</td>\n",
       "      <td>19479</td>\n",
       "      <td>8</td>\n",
       "      <td>Y</td>\n",
       "      <td>Yes</td>\n",
       "      <td>11</td>\n",
       "      <td>3</td>\n",
       "      <td>1</td>\n",
       "      <td>80</td>\n",
       "      <td>0</td>\n",
       "      <td>8</td>\n",
       "      <td>0</td>\n",
       "      <td>1</td>\n",
       "      <td>6</td>\n",
       "      <td>4</td>\n",
       "      <td>0</td>\n",
       "      <td>5</td>\n",
       "    </tr>\n",
       "    <tr>\n",
       "      <th>1</th>\n",
       "      <td>49</td>\n",
       "      <td>No</td>\n",
       "      <td>Travel_Frequently</td>\n",
       "      <td>279</td>\n",
       "      <td>Research &amp; Development</td>\n",
       "      <td>8</td>\n",
       "      <td>1</td>\n",
       "      <td>Life Sciences</td>\n",
       "      <td>1</td>\n",
       "      <td>2</td>\n",
       "      <td>3</td>\n",
       "      <td>Male</td>\n",
       "      <td>61</td>\n",
       "      <td>2</td>\n",
       "      <td>2</td>\n",
       "      <td>Research Scientist</td>\n",
       "      <td>2</td>\n",
       "      <td>Married</td>\n",
       "      <td>5130</td>\n",
       "      <td>24907</td>\n",
       "      <td>1</td>\n",
       "      <td>Y</td>\n",
       "      <td>No</td>\n",
       "      <td>23</td>\n",
       "      <td>4</td>\n",
       "      <td>4</td>\n",
       "      <td>80</td>\n",
       "      <td>1</td>\n",
       "      <td>10</td>\n",
       "      <td>3</td>\n",
       "      <td>3</td>\n",
       "      <td>10</td>\n",
       "      <td>7</td>\n",
       "      <td>1</td>\n",
       "      <td>7</td>\n",
       "    </tr>\n",
       "  </tbody>\n",
       "</table>\n",
       "</div>"
      ],
      "text/plain": [
       "   Age Attrition     BusinessTravel  DailyRate              Department  \\\n",
       "0   41       Yes      Travel_Rarely       1102                   Sales   \n",
       "1   49        No  Travel_Frequently        279  Research & Development   \n",
       "\n",
       "   DistanceFromHome  Education EducationField  EmployeeCount  EmployeeNumber  \\\n",
       "0                 1          2  Life Sciences              1               1   \n",
       "1                 8          1  Life Sciences              1               2   \n",
       "\n",
       "   EnvironmentSatisfaction  Gender  HourlyRate  JobInvolvement  JobLevel  \\\n",
       "0                        2  Female          94               3         2   \n",
       "1                        3    Male          61               2         2   \n",
       "\n",
       "              JobRole  JobSatisfaction MaritalStatus  MonthlyIncome  \\\n",
       "0     Sales Executive                4        Single           5993   \n",
       "1  Research Scientist                2       Married           5130   \n",
       "\n",
       "   MonthlyRate  NumCompaniesWorked Over18 OverTime  PercentSalaryHike  \\\n",
       "0        19479                   8      Y      Yes                 11   \n",
       "1        24907                   1      Y       No                 23   \n",
       "\n",
       "   PerformanceRating  RelationshipSatisfaction  StandardHours  \\\n",
       "0                  3                         1             80   \n",
       "1                  4                         4             80   \n",
       "\n",
       "   StockOptionLevel  TotalWorkingYears  TrainingTimesLastYear  \\\n",
       "0                 0                  8                      0   \n",
       "1                 1                 10                      3   \n",
       "\n",
       "   WorkLifeBalance  YearsAtCompany  YearsInCurrentRole  \\\n",
       "0                1               6                   4   \n",
       "1                3              10                   7   \n",
       "\n",
       "   YearsSinceLastPromotion  YearsWithCurrManager  \n",
       "0                        0                     5  \n",
       "1                        1                     7  "
      ]
     },
     "execution_count": 2,
     "metadata": {},
     "output_type": "execute_result"
    }
   ],
   "source": [
    "import pandas as pd\n",
    "import numpy as np\n",
    "import matplotlib.pyplot as plt\n",
    "import seaborn as sns\n",
    "import warnings\n",
    "warnings.filterwarnings(\"ignore\")\n",
    "sns.set_theme(style=\"whitegrid\")\n",
    "sns.palette=\"tab10\"\n",
    "from sklearn.preprocessing import OneHotEncoder\n",
    "pd.options.mode.chained_assignment = None\n",
    "pd.set_option('display.max_columns', None)\n",
    "pd.set_option('display.max_rows', None)\n",
    "data = pd.read_csv(\"WA_Fn-UseC_-HR-Employee-Attrition.csv\")\n",
    "data.head(2)"
   ]
  },
  {
   "cell_type": "code",
   "execution_count": 3,
   "id": "12364534",
   "metadata": {},
   "outputs": [
    {
     "data": {
      "text/html": [
       "<div>\n",
       "<style scoped>\n",
       "    .dataframe tbody tr th:only-of-type {\n",
       "        vertical-align: middle;\n",
       "    }\n",
       "\n",
       "    .dataframe tbody tr th {\n",
       "        vertical-align: top;\n",
       "    }\n",
       "\n",
       "    .dataframe thead th {\n",
       "        text-align: right;\n",
       "    }\n",
       "</style>\n",
       "<table border=\"1\" class=\"dataframe\">\n",
       "  <thead>\n",
       "    <tr style=\"text-align: right;\">\n",
       "      <th></th>\n",
       "      <th>Attrition</th>\n",
       "      <th>BusinessTravel</th>\n",
       "      <th>Department</th>\n",
       "      <th>EducationField</th>\n",
       "      <th>Gender</th>\n",
       "      <th>JobRole</th>\n",
       "      <th>MaritalStatus</th>\n",
       "      <th>Over18</th>\n",
       "      <th>OverTime</th>\n",
       "    </tr>\n",
       "  </thead>\n",
       "  <tbody>\n",
       "    <tr>\n",
       "      <th>count</th>\n",
       "      <td>1470</td>\n",
       "      <td>1470</td>\n",
       "      <td>1470</td>\n",
       "      <td>1470</td>\n",
       "      <td>1470</td>\n",
       "      <td>1470</td>\n",
       "      <td>1470</td>\n",
       "      <td>1470</td>\n",
       "      <td>1470</td>\n",
       "    </tr>\n",
       "    <tr>\n",
       "      <th>unique</th>\n",
       "      <td>2</td>\n",
       "      <td>3</td>\n",
       "      <td>3</td>\n",
       "      <td>6</td>\n",
       "      <td>2</td>\n",
       "      <td>9</td>\n",
       "      <td>3</td>\n",
       "      <td>1</td>\n",
       "      <td>2</td>\n",
       "    </tr>\n",
       "    <tr>\n",
       "      <th>top</th>\n",
       "      <td>No</td>\n",
       "      <td>Travel_Rarely</td>\n",
       "      <td>Research &amp; Development</td>\n",
       "      <td>Life Sciences</td>\n",
       "      <td>Male</td>\n",
       "      <td>Sales Executive</td>\n",
       "      <td>Married</td>\n",
       "      <td>Y</td>\n",
       "      <td>No</td>\n",
       "    </tr>\n",
       "    <tr>\n",
       "      <th>freq</th>\n",
       "      <td>1233</td>\n",
       "      <td>1043</td>\n",
       "      <td>961</td>\n",
       "      <td>606</td>\n",
       "      <td>882</td>\n",
       "      <td>326</td>\n",
       "      <td>673</td>\n",
       "      <td>1470</td>\n",
       "      <td>1054</td>\n",
       "    </tr>\n",
       "  </tbody>\n",
       "</table>\n",
       "</div>"
      ],
      "text/plain": [
       "       Attrition BusinessTravel              Department EducationField Gender  \\\n",
       "count       1470           1470                    1470           1470   1470   \n",
       "unique         2              3                       3              6      2   \n",
       "top           No  Travel_Rarely  Research & Development  Life Sciences   Male   \n",
       "freq        1233           1043                     961            606    882   \n",
       "\n",
       "                JobRole MaritalStatus Over18 OverTime  \n",
       "count              1470          1470   1470     1470  \n",
       "unique                9             3      1        2  \n",
       "top     Sales Executive       Married      Y       No  \n",
       "freq                326           673   1470     1054  "
      ]
     },
     "execution_count": 3,
     "metadata": {},
     "output_type": "execute_result"
    }
   ],
   "source": [
    "data.describe(include='O')"
   ]
  },
  {
   "cell_type": "code",
   "execution_count": 4,
   "id": "70037ab7",
   "metadata": {},
   "outputs": [
    {
     "data": {
      "text/html": [
       "<div>\n",
       "<style scoped>\n",
       "    .dataframe tbody tr th:only-of-type {\n",
       "        vertical-align: middle;\n",
       "    }\n",
       "\n",
       "    .dataframe tbody tr th {\n",
       "        vertical-align: top;\n",
       "    }\n",
       "\n",
       "    .dataframe thead th {\n",
       "        text-align: right;\n",
       "    }\n",
       "</style>\n",
       "<table border=\"1\" class=\"dataframe\">\n",
       "  <thead>\n",
       "    <tr style=\"text-align: right;\">\n",
       "      <th></th>\n",
       "      <th>Age</th>\n",
       "      <th>Attrition</th>\n",
       "      <th>BusinessTravel</th>\n",
       "      <th>DailyRate</th>\n",
       "      <th>Department</th>\n",
       "      <th>DistanceFromHome</th>\n",
       "      <th>Education</th>\n",
       "      <th>EducationField</th>\n",
       "      <th>EmployeeCount</th>\n",
       "      <th>EmployeeNumber</th>\n",
       "      <th>EnvironmentSatisfaction</th>\n",
       "      <th>Gender</th>\n",
       "      <th>HourlyRate</th>\n",
       "      <th>JobInvolvement</th>\n",
       "      <th>JobLevel</th>\n",
       "      <th>JobRole</th>\n",
       "      <th>JobSatisfaction</th>\n",
       "      <th>MaritalStatus</th>\n",
       "      <th>MonthlyIncome</th>\n",
       "      <th>MonthlyRate</th>\n",
       "      <th>NumCompaniesWorked</th>\n",
       "      <th>OverTime</th>\n",
       "      <th>PercentSalaryHike</th>\n",
       "      <th>PerformanceRating</th>\n",
       "      <th>RelationshipSatisfaction</th>\n",
       "      <th>StockOptionLevel</th>\n",
       "      <th>TotalWorkingYears</th>\n",
       "      <th>TrainingTimesLastYear</th>\n",
       "      <th>WorkLifeBalance</th>\n",
       "      <th>YearsAtCompany</th>\n",
       "      <th>YearsInCurrentRole</th>\n",
       "      <th>YearsSinceLastPromotion</th>\n",
       "      <th>YearsWithCurrManager</th>\n",
       "    </tr>\n",
       "  </thead>\n",
       "  <tbody>\n",
       "    <tr>\n",
       "      <th>0</th>\n",
       "      <td>41</td>\n",
       "      <td>1</td>\n",
       "      <td>Travel_Rarely</td>\n",
       "      <td>1102</td>\n",
       "      <td>Sales</td>\n",
       "      <td>1</td>\n",
       "      <td>2</td>\n",
       "      <td>Life Sciences</td>\n",
       "      <td>1</td>\n",
       "      <td>1</td>\n",
       "      <td>2</td>\n",
       "      <td>Female</td>\n",
       "      <td>94</td>\n",
       "      <td>3</td>\n",
       "      <td>2</td>\n",
       "      <td>Sales Executive</td>\n",
       "      <td>4</td>\n",
       "      <td>Single</td>\n",
       "      <td>5993</td>\n",
       "      <td>19479</td>\n",
       "      <td>8</td>\n",
       "      <td>1</td>\n",
       "      <td>11</td>\n",
       "      <td>3</td>\n",
       "      <td>1</td>\n",
       "      <td>0</td>\n",
       "      <td>8</td>\n",
       "      <td>0</td>\n",
       "      <td>1</td>\n",
       "      <td>6</td>\n",
       "      <td>4</td>\n",
       "      <td>0</td>\n",
       "      <td>5</td>\n",
       "    </tr>\n",
       "    <tr>\n",
       "      <th>1</th>\n",
       "      <td>49</td>\n",
       "      <td>0</td>\n",
       "      <td>Travel_Frequently</td>\n",
       "      <td>279</td>\n",
       "      <td>Research &amp; Development</td>\n",
       "      <td>8</td>\n",
       "      <td>1</td>\n",
       "      <td>Life Sciences</td>\n",
       "      <td>1</td>\n",
       "      <td>2</td>\n",
       "      <td>3</td>\n",
       "      <td>Male</td>\n",
       "      <td>61</td>\n",
       "      <td>2</td>\n",
       "      <td>2</td>\n",
       "      <td>Research Scientist</td>\n",
       "      <td>2</td>\n",
       "      <td>Married</td>\n",
       "      <td>5130</td>\n",
       "      <td>24907</td>\n",
       "      <td>1</td>\n",
       "      <td>0</td>\n",
       "      <td>23</td>\n",
       "      <td>4</td>\n",
       "      <td>4</td>\n",
       "      <td>1</td>\n",
       "      <td>10</td>\n",
       "      <td>3</td>\n",
       "      <td>3</td>\n",
       "      <td>10</td>\n",
       "      <td>7</td>\n",
       "      <td>1</td>\n",
       "      <td>7</td>\n",
       "    </tr>\n",
       "  </tbody>\n",
       "</table>\n",
       "</div>"
      ],
      "text/plain": [
       "   Age  Attrition     BusinessTravel  DailyRate              Department  \\\n",
       "0   41          1      Travel_Rarely       1102                   Sales   \n",
       "1   49          0  Travel_Frequently        279  Research & Development   \n",
       "\n",
       "   DistanceFromHome  Education EducationField  EmployeeCount  EmployeeNumber  \\\n",
       "0                 1          2  Life Sciences              1               1   \n",
       "1                 8          1  Life Sciences              1               2   \n",
       "\n",
       "   EnvironmentSatisfaction  Gender  HourlyRate  JobInvolvement  JobLevel  \\\n",
       "0                        2  Female          94               3         2   \n",
       "1                        3    Male          61               2         2   \n",
       "\n",
       "              JobRole  JobSatisfaction MaritalStatus  MonthlyIncome  \\\n",
       "0     Sales Executive                4        Single           5993   \n",
       "1  Research Scientist                2       Married           5130   \n",
       "\n",
       "   MonthlyRate  NumCompaniesWorked  OverTime  PercentSalaryHike  \\\n",
       "0        19479                   8         1                 11   \n",
       "1        24907                   1         0                 23   \n",
       "\n",
       "   PerformanceRating  RelationshipSatisfaction  StockOptionLevel  \\\n",
       "0                  3                         1                 0   \n",
       "1                  4                         4                 1   \n",
       "\n",
       "   TotalWorkingYears  TrainingTimesLastYear  WorkLifeBalance  YearsAtCompany  \\\n",
       "0                  8                      0                1               6   \n",
       "1                 10                      3                3              10   \n",
       "\n",
       "   YearsInCurrentRole  YearsSinceLastPromotion  YearsWithCurrManager  \n",
       "0                   4                        0                     5  \n",
       "1                   7                        1                     7  "
      ]
     },
     "execution_count": 4,
     "metadata": {},
     "output_type": "execute_result"
    }
   ],
   "source": [
    "# Dropping the column \"Over18\" and Standard Hours as there is only 1 unique value which doesn't contribute to any info\n",
    "\n",
    "# Transforming the attrition - yes/no into 1 and 0 respectively\n",
    "data['Attrition'] = data['Attrition'].replace({\"Yes\":1,\"No\":0})\n",
    "\n",
    "# Transforming the overtime - yes/no into 1 and 0 respectively\n",
    "data['OverTime'] = data['OverTime'].replace({\"Yes\":1,\"No\":0})\n",
    "data.drop(['Over18','StandardHours'],inplace=True, axis=1)\n",
    "data.head(2)"
   ]
  },
  {
   "cell_type": "markdown",
   "id": "54ea9827",
   "metadata": {},
   "source": [
    "## Data Transformation"
   ]
  },
  {
   "cell_type": "markdown",
   "id": "91d16fde",
   "metadata": {},
   "source": [
    "### One Hot Encoding"
   ]
  },
  {
   "cell_type": "code",
   "execution_count": 5,
   "id": "d1fc20bf",
   "metadata": {},
   "outputs": [
    {
     "data": {
      "text/html": [
       "<div>\n",
       "<style scoped>\n",
       "    .dataframe tbody tr th:only-of-type {\n",
       "        vertical-align: middle;\n",
       "    }\n",
       "\n",
       "    .dataframe tbody tr th {\n",
       "        vertical-align: top;\n",
       "    }\n",
       "\n",
       "    .dataframe thead th {\n",
       "        text-align: right;\n",
       "    }\n",
       "</style>\n",
       "<table border=\"1\" class=\"dataframe\">\n",
       "  <thead>\n",
       "    <tr style=\"text-align: right;\">\n",
       "      <th></th>\n",
       "      <th>Age</th>\n",
       "      <th>Attrition</th>\n",
       "      <th>DailyRate</th>\n",
       "      <th>DistanceFromHome</th>\n",
       "      <th>Education</th>\n",
       "      <th>EmployeeCount</th>\n",
       "      <th>EmployeeNumber</th>\n",
       "      <th>EnvironmentSatisfaction</th>\n",
       "      <th>HourlyRate</th>\n",
       "      <th>JobInvolvement</th>\n",
       "      <th>JobLevel</th>\n",
       "      <th>JobSatisfaction</th>\n",
       "      <th>MonthlyIncome</th>\n",
       "      <th>MonthlyRate</th>\n",
       "      <th>NumCompaniesWorked</th>\n",
       "      <th>OverTime</th>\n",
       "      <th>PercentSalaryHike</th>\n",
       "      <th>PerformanceRating</th>\n",
       "      <th>RelationshipSatisfaction</th>\n",
       "      <th>StockOptionLevel</th>\n",
       "      <th>TotalWorkingYears</th>\n",
       "      <th>TrainingTimesLastYear</th>\n",
       "      <th>WorkLifeBalance</th>\n",
       "      <th>YearsAtCompany</th>\n",
       "      <th>YearsInCurrentRole</th>\n",
       "      <th>YearsSinceLastPromotion</th>\n",
       "      <th>YearsWithCurrManager</th>\n",
       "      <th>BusinessTravel_Non-Travel</th>\n",
       "      <th>BusinessTravel_Travel_Frequently</th>\n",
       "      <th>BusinessTravel_Travel_Rarely</th>\n",
       "      <th>Department_Human Resources</th>\n",
       "      <th>Department_Research &amp; Development</th>\n",
       "      <th>Department_Sales</th>\n",
       "      <th>EducationField_Human Resources</th>\n",
       "      <th>EducationField_Life Sciences</th>\n",
       "      <th>EducationField_Marketing</th>\n",
       "      <th>EducationField_Medical</th>\n",
       "      <th>EducationField_Other</th>\n",
       "      <th>EducationField_Technical Degree</th>\n",
       "      <th>Gender_Female</th>\n",
       "      <th>Gender_Male</th>\n",
       "      <th>JobRole_Healthcare Representative</th>\n",
       "      <th>JobRole_Human Resources</th>\n",
       "      <th>JobRole_Laboratory Technician</th>\n",
       "      <th>JobRole_Manager</th>\n",
       "      <th>JobRole_Manufacturing Director</th>\n",
       "      <th>JobRole_Research Director</th>\n",
       "      <th>JobRole_Research Scientist</th>\n",
       "      <th>JobRole_Sales Executive</th>\n",
       "      <th>JobRole_Sales Representative</th>\n",
       "      <th>MaritalStatus_Divorced</th>\n",
       "      <th>MaritalStatus_Married</th>\n",
       "      <th>MaritalStatus_Single</th>\n",
       "    </tr>\n",
       "  </thead>\n",
       "  <tbody>\n",
       "    <tr>\n",
       "      <th>0</th>\n",
       "      <td>41</td>\n",
       "      <td>1</td>\n",
       "      <td>1102</td>\n",
       "      <td>1</td>\n",
       "      <td>2</td>\n",
       "      <td>1</td>\n",
       "      <td>1</td>\n",
       "      <td>2</td>\n",
       "      <td>94</td>\n",
       "      <td>3</td>\n",
       "      <td>2</td>\n",
       "      <td>4</td>\n",
       "      <td>5993</td>\n",
       "      <td>19479</td>\n",
       "      <td>8</td>\n",
       "      <td>1</td>\n",
       "      <td>11</td>\n",
       "      <td>3</td>\n",
       "      <td>1</td>\n",
       "      <td>0</td>\n",
       "      <td>8</td>\n",
       "      <td>0</td>\n",
       "      <td>1</td>\n",
       "      <td>6</td>\n",
       "      <td>4</td>\n",
       "      <td>0</td>\n",
       "      <td>5</td>\n",
       "      <td>0</td>\n",
       "      <td>0</td>\n",
       "      <td>1</td>\n",
       "      <td>0</td>\n",
       "      <td>0</td>\n",
       "      <td>1</td>\n",
       "      <td>0</td>\n",
       "      <td>1</td>\n",
       "      <td>0</td>\n",
       "      <td>0</td>\n",
       "      <td>0</td>\n",
       "      <td>0</td>\n",
       "      <td>1</td>\n",
       "      <td>0</td>\n",
       "      <td>0</td>\n",
       "      <td>0</td>\n",
       "      <td>0</td>\n",
       "      <td>0</td>\n",
       "      <td>0</td>\n",
       "      <td>0</td>\n",
       "      <td>0</td>\n",
       "      <td>1</td>\n",
       "      <td>0</td>\n",
       "      <td>0</td>\n",
       "      <td>0</td>\n",
       "      <td>1</td>\n",
       "    </tr>\n",
       "    <tr>\n",
       "      <th>1</th>\n",
       "      <td>49</td>\n",
       "      <td>0</td>\n",
       "      <td>279</td>\n",
       "      <td>8</td>\n",
       "      <td>1</td>\n",
       "      <td>1</td>\n",
       "      <td>2</td>\n",
       "      <td>3</td>\n",
       "      <td>61</td>\n",
       "      <td>2</td>\n",
       "      <td>2</td>\n",
       "      <td>2</td>\n",
       "      <td>5130</td>\n",
       "      <td>24907</td>\n",
       "      <td>1</td>\n",
       "      <td>0</td>\n",
       "      <td>23</td>\n",
       "      <td>4</td>\n",
       "      <td>4</td>\n",
       "      <td>1</td>\n",
       "      <td>10</td>\n",
       "      <td>3</td>\n",
       "      <td>3</td>\n",
       "      <td>10</td>\n",
       "      <td>7</td>\n",
       "      <td>1</td>\n",
       "      <td>7</td>\n",
       "      <td>0</td>\n",
       "      <td>1</td>\n",
       "      <td>0</td>\n",
       "      <td>0</td>\n",
       "      <td>1</td>\n",
       "      <td>0</td>\n",
       "      <td>0</td>\n",
       "      <td>1</td>\n",
       "      <td>0</td>\n",
       "      <td>0</td>\n",
       "      <td>0</td>\n",
       "      <td>0</td>\n",
       "      <td>0</td>\n",
       "      <td>1</td>\n",
       "      <td>0</td>\n",
       "      <td>0</td>\n",
       "      <td>0</td>\n",
       "      <td>0</td>\n",
       "      <td>0</td>\n",
       "      <td>0</td>\n",
       "      <td>1</td>\n",
       "      <td>0</td>\n",
       "      <td>0</td>\n",
       "      <td>0</td>\n",
       "      <td>1</td>\n",
       "      <td>0</td>\n",
       "    </tr>\n",
       "  </tbody>\n",
       "</table>\n",
       "</div>"
      ],
      "text/plain": [
       "   Age  Attrition  DailyRate  DistanceFromHome  Education  EmployeeCount  \\\n",
       "0   41          1       1102                 1          2              1   \n",
       "1   49          0        279                 8          1              1   \n",
       "\n",
       "   EmployeeNumber  EnvironmentSatisfaction  HourlyRate  JobInvolvement  \\\n",
       "0               1                        2          94               3   \n",
       "1               2                        3          61               2   \n",
       "\n",
       "   JobLevel  JobSatisfaction  MonthlyIncome  MonthlyRate  NumCompaniesWorked  \\\n",
       "0         2                4           5993        19479                   8   \n",
       "1         2                2           5130        24907                   1   \n",
       "\n",
       "   OverTime  PercentSalaryHike  PerformanceRating  RelationshipSatisfaction  \\\n",
       "0         1                 11                  3                         1   \n",
       "1         0                 23                  4                         4   \n",
       "\n",
       "   StockOptionLevel  TotalWorkingYears  TrainingTimesLastYear  \\\n",
       "0                 0                  8                      0   \n",
       "1                 1                 10                      3   \n",
       "\n",
       "   WorkLifeBalance  YearsAtCompany  YearsInCurrentRole  \\\n",
       "0                1               6                   4   \n",
       "1                3              10                   7   \n",
       "\n",
       "   YearsSinceLastPromotion  YearsWithCurrManager  BusinessTravel_Non-Travel  \\\n",
       "0                        0                     5                          0   \n",
       "1                        1                     7                          0   \n",
       "\n",
       "   BusinessTravel_Travel_Frequently  BusinessTravel_Travel_Rarely  \\\n",
       "0                                 0                             1   \n",
       "1                                 1                             0   \n",
       "\n",
       "   Department_Human Resources  Department_Research & Development  \\\n",
       "0                           0                                  0   \n",
       "1                           0                                  1   \n",
       "\n",
       "   Department_Sales  EducationField_Human Resources  \\\n",
       "0                 1                               0   \n",
       "1                 0                               0   \n",
       "\n",
       "   EducationField_Life Sciences  EducationField_Marketing  \\\n",
       "0                             1                         0   \n",
       "1                             1                         0   \n",
       "\n",
       "   EducationField_Medical  EducationField_Other  \\\n",
       "0                       0                     0   \n",
       "1                       0                     0   \n",
       "\n",
       "   EducationField_Technical Degree  Gender_Female  Gender_Male  \\\n",
       "0                                0              1            0   \n",
       "1                                0              0            1   \n",
       "\n",
       "   JobRole_Healthcare Representative  JobRole_Human Resources  \\\n",
       "0                                  0                        0   \n",
       "1                                  0                        0   \n",
       "\n",
       "   JobRole_Laboratory Technician  JobRole_Manager  \\\n",
       "0                              0                0   \n",
       "1                              0                0   \n",
       "\n",
       "   JobRole_Manufacturing Director  JobRole_Research Director  \\\n",
       "0                               0                          0   \n",
       "1                               0                          0   \n",
       "\n",
       "   JobRole_Research Scientist  JobRole_Sales Executive  \\\n",
       "0                           0                        1   \n",
       "1                           1                        0   \n",
       "\n",
       "   JobRole_Sales Representative  MaritalStatus_Divorced  \\\n",
       "0                             0                       0   \n",
       "1                             0                       0   \n",
       "\n",
       "   MaritalStatus_Married  MaritalStatus_Single  \n",
       "0                      0                     1  \n",
       "1                      1                     0  "
      ]
     },
     "execution_count": 5,
     "metadata": {},
     "output_type": "execute_result"
    }
   ],
   "source": [
    "# One hot encoding\n",
    "data_dummies = pd.get_dummies(data)\n",
    "data_dummies.head(2)"
   ]
  },
  {
   "cell_type": "markdown",
   "id": "4d9e696b",
   "metadata": {},
   "source": [
    "## Exploratory Data Analysis"
   ]
  },
  {
   "cell_type": "code",
   "execution_count": 6,
   "id": "8acc8990",
   "metadata": {},
   "outputs": [
    {
     "data": {
      "text/plain": [
       "<AxesSubplot:>"
      ]
     },
     "execution_count": 6,
     "metadata": {},
     "output_type": "execute_result"
    },
    {
     "data": {
      "image/png": "[encoded data removed]",
      "text/plain": [
       "<Figure size 360x216 with 1 Axes>"
      ]
     },
     "metadata": {},
     "output_type": "display_data"
    }
   ],
   "source": [
    "plt.figure(figsize=(5,3))\n",
    "data_dummies['Age'].hist()"
   ]
  },
  {
   "cell_type": "code",
   "execution_count": 7,
   "id": "ebda32a1",
   "metadata": {},
   "outputs": [
    {
     "data": {
      "image/png": "[encoded data removed]",
      "text/plain": [
       "<Figure size 360x216 with 1 Axes>"
      ]
     },
     "metadata": {},
     "output_type": "display_data"
    }
   ],
   "source": [
    "plt.figure(figsize=(5,3))\n",
    "hist, bin_edges =np.histogram(data_dummies['Age'])\n",
    "plt.bar(bin_edges[:-1], hist, width = 0.5, color='#0504aa',alpha=0.7)\n",
    "plt.xlim(min(bin_edges), max(bin_edges))\n",
    "plt.grid(axis='y', alpha=0.75)\n",
    "plt.xlabel('Value',fontsize=15)\n",
    "plt.ylabel('Frequency',fontsize=15)\n",
    "plt.xticks(fontsize=15)\n",
    "plt.yticks(fontsize=15)\n",
    "plt.ylabel('Frequency',fontsize=15)\n",
    "plt.title('Age Histogram',fontsize=15)\n",
    "plt.show()"
   ]
  },
  {
   "cell_type": "code",
   "execution_count": 8,
   "id": "f23a0acf",
   "metadata": {},
   "outputs": [
    {
     "name": "stdout",
     "output_type": "stream",
     "text": [
      "No attrition:  83.88 %\n",
      "Attrition:  16.12 %\n"
     ]
    }
   ],
   "source": [
    "print(\"No attrition: \",round(data_dummies[data_dummies['Attrition'] == 0].shape[0]/len(data_dummies)*100,2),\"%\")\n",
    "print(\"Attrition: \",round(data_dummies[data_dummies['Attrition'] == 1].shape[0]/len(data_dummies)*100,2),\"%\")"
   ]
  },
  {
   "cell_type": "code",
   "execution_count": 9,
   "id": "129c22ff",
   "metadata": {},
   "outputs": [
    {
     "data": {
      "image/png": "[encoded data removed]",
      "text/plain": [
       "<Figure size 360x216 with 1 Axes>"
      ]
     },
     "metadata": {},
     "output_type": "display_data"
    }
   ],
   "source": [
    "# Travel wise attrition\n",
    "plt.figure(figsize=(5,3))\n",
    "sns.countplot(x='BusinessTravel',hue=\"Attrition\",data=data)\n",
    "plt.title(\"Business travel type versus Attrition\")\n",
    "plt.show()"
   ]
  },
  {
   "cell_type": "code",
   "execution_count": 10,
   "id": "4f75b3a9",
   "metadata": {
    "scrolled": true
   },
   "outputs": [
    {
     "data": {
      "image/png": "[encoded data removed]",
      "text/plain": [
       "<Figure size 360x216 with 1 Axes>"
      ]
     },
     "metadata": {},
     "output_type": "display_data"
    }
   ],
   "source": [
    "# Attrition by Age groups\n",
    "plt.figure(figsize=(5,3))\n",
    "data.groupby(\"Attrition\").Age.plot(kind='hist',legend=True)\n",
    "plt.title(\"Attrition by Age\")\n",
    "plt.show()"
   ]
  },
  {
   "cell_type": "code",
   "execution_count": 11,
   "id": "22d88779",
   "metadata": {},
   "outputs": [
    {
     "data": {
      "image/png": "[encoded data removed]",
      "text/plain": [
       "<Figure size 360x216 with 1 Axes>"
      ]
     },
     "metadata": {},
     "output_type": "display_data"
    }
   ],
   "source": [
    "# Attrition by Distance from home groups\n",
    "plt.figure(figsize=(5,3))\n",
    "data.groupby(\"Attrition\").DistanceFromHome.plot(kind='hist',legend=True)\n",
    "plt.title(\"Attrition by Distance from Home\")\n",
    "plt.show()"
   ]
  },
  {
   "cell_type": "code",
   "execution_count": 12,
   "id": "a0b12196",
   "metadata": {},
   "outputs": [
    {
     "data": {
      "image/png": "[encoded data removed]",
      "text/plain": [
       "<Figure size 360x216 with 1 Axes>"
      ]
     },
     "metadata": {},
     "output_type": "display_data"
    }
   ],
   "source": [
    "# Department wise attrition\n",
    "plt.figure(figsize=(5,3))\n",
    "sns.countplot(x='Department',hue=\"Attrition\",data=data)\n",
    "plt.title(\"Department versus Attrition\")\n",
    "plt.show()"
   ]
  },
  {
   "cell_type": "code",
   "execution_count": 13,
   "id": "329b49ee",
   "metadata": {},
   "outputs": [
    {
     "data": {
      "image/png": "[encoded data removed]",
      "text/plain": [
       "<Figure size 360x216 with 1 Axes>"
      ]
     },
     "metadata": {},
     "output_type": "display_data"
    }
   ],
   "source": [
    "# Education Field wise attrition\n",
    "plt.figure(figsize=(5,3))\n",
    "sns.countplot(x='EducationField',hue=\"Attrition\",data=data)\n",
    "plt.title(\"Education field versus Attrition\")\n",
    "plt.show()"
   ]
  },
  {
   "cell_type": "code",
   "execution_count": 14,
   "id": "4f0ce85f",
   "metadata": {},
   "outputs": [
    {
     "data": {
      "image/png": "[encoded data removed]",
      "text/plain": [
       "<Figure size 360x216 with 1 Axes>"
      ]
     },
     "metadata": {},
     "output_type": "display_data"
    }
   ],
   "source": [
    "# Attrition by education groups\n",
    "plt.figure(figsize=(5,3))\n",
    "data.groupby(\"Attrition\").Education.plot(kind='hist',legend=True)\n",
    "plt.title(\"Attrition by Education years\")\n",
    "plt.show()"
   ]
  },
  {
   "cell_type": "code",
   "execution_count": 15,
   "id": "716537a7",
   "metadata": {},
   "outputs": [
    {
     "data": {
      "image/png": "[encoded data removed]",
      "text/plain": [
       "<Figure size 360x216 with 1 Axes>"
      ]
     },
     "metadata": {},
     "output_type": "display_data"
    }
   ],
   "source": [
    "# Attrition by hourly rate\n",
    "plt.figure(figsize=(5,3))\n",
    "data.groupby(\"Attrition\").HourlyRate.plot(kind='hist',legend=True)\n",
    "plt.title(\"Attrition by Hourly Rate\")\n",
    "plt.show()"
   ]
  },
  {
   "cell_type": "code",
   "execution_count": 16,
   "id": "1928feb5",
   "metadata": {},
   "outputs": [
    {
     "data": {
      "image/png": "[encoded data removed]",
      "text/plain": [
       "<Figure size 360x216 with 1 Axes>"
      ]
     },
     "metadata": {},
     "output_type": "display_data"
    }
   ],
   "source": [
    "# Attrition by daily rate\n",
    "plt.figure(figsize=(5,3))\n",
    "data.groupby(\"Attrition\").DailyRate.plot(kind='hist',legend=True)\n",
    "plt.title(\"Attrition by Daily Rate\")\n",
    "plt.show()"
   ]
  },
  {
   "cell_type": "code",
   "execution_count": 17,
   "id": "2df3430d",
   "metadata": {},
   "outputs": [
    {
     "data": {
      "image/png": "[encoded data removed]",
      "text/plain": [
       "<Figure size 360x216 with 1 Axes>"
      ]
     },
     "metadata": {},
     "output_type": "display_data"
    }
   ],
   "source": [
    "# Attrition by monthly rate\n",
    "plt.figure(figsize=(5,3))\n",
    "data.groupby(\"Attrition\").MonthlyRate.plot(kind='hist',legend=True)\n",
    "plt.title(\"Attrition by Monthly Rate\")\n",
    "plt.show()"
   ]
  },
  {
   "cell_type": "code",
   "execution_count": 18,
   "id": "be7a954c",
   "metadata": {},
   "outputs": [
    {
     "data": {
      "image/png": "[encoded data removed]",
      "text/plain": [
       "<Figure size 360x216 with 1 Axes>"
      ]
     },
     "metadata": {},
     "output_type": "display_data"
    }
   ],
   "source": [
    "# Environment Satisfaction wise attrition\n",
    "plt.figure(figsize=(5,3))\n",
    "sns.countplot(x='EnvironmentSatisfaction',hue=\"Attrition\",data=data)\n",
    "plt.title(\"Environment Satisfaction versus Attrition\")\n",
    "plt.show()"
   ]
  },
  {
   "cell_type": "code",
   "execution_count": 21,
   "id": "e8793228",
   "metadata": {},
   "outputs": [
    {
     "data": {
      "image/png": "[encoded data removed]",
      "text/plain": [
       "<Figure size 360x216 with 1 Axes>"
      ]
     },
     "metadata": {},
     "output_type": "display_data"
    }
   ],
   "source": [
    "# Job Satisfaction wise attrition\n",
    "plt.figure(figsize=(5,3))\n",
    "sns.countplot(x='JobSatisfaction',hue=\"Attrition\",data=data, palette=\"pastel\")\n",
    "plt.title(\"Job Satisfaction versus Attrition\")\n",
    "plt.show()"
   ]
  },
  {
   "cell_type": "code",
   "execution_count": 20,
   "id": "9ead62dc",
   "metadata": {},
   "outputs": [
    {
     "data": {
      "image/png": "[encoded data removed]",
      "text/plain": [
       "<Figure size 360x216 with 1 Axes>"
      ]
     },
     "metadata": {},
     "output_type": "display_data"
    }
   ],
   "source": [
    "# Performance Rating\n",
    "plt.figure(figsize=(5,3))\n",
    "sns.countplot(x='PerformanceRating',hue=\"Attrition\",data=data, palette=\"pastel\")\n",
    "plt.title(\"Performance Rating versus Attrition\")\n",
    "plt.show()"
   ]
  },
  {
   "cell_type": "code",
   "execution_count": 23,
   "id": "318b7f64",
   "metadata": {},
   "outputs": [
    {
     "data": {
      "image/png": "[encoded data removed]",
      "text/plain": [
       "<Figure size 360x216 with 1 Axes>"
      ]
     },
     "metadata": {},
     "output_type": "display_data"
    }
   ],
   "source": [
    "# Overtime\n",
    "plt.figure(figsize=(5,3))\n",
    "sns.countplot(x='OverTime',hue=\"Attrition\",data=data, palette=\"pastel\")\n",
    "plt.title(\"Over time versus Attrition\")\n",
    "plt.show()"
   ]
  },
  {
   "cell_type": "code",
   "execution_count": 24,
   "id": "5766e0ac",
   "metadata": {},
   "outputs": [
    {
     "data": {
      "image/png": "[encoded data removed]",
      "text/plain": [
       "<Figure size 360x216 with 1 Axes>"
      ]
     },
     "metadata": {},
     "output_type": "display_data"
    }
   ],
   "source": [
    "#StockOptionLevel\n",
    "plt.figure(figsize=(5,3))\n",
    "sns.countplot(x='StockOptionLevel',hue=\"Attrition\",data=data, palette=\"pastel\")\n",
    "plt.title(\"Stock Option Level versus Attrition\")\n",
    "plt.show()"
   ]
  },
  {
   "cell_type": "code",
   "execution_count": 25,
   "id": "286122e7",
   "metadata": {},
   "outputs": [
    {
     "data": {
      "image/png": "[encoded data removed]",
      "text/plain": [
       "<Figure size 360x216 with 1 Axes>"
      ]
     },
     "metadata": {},
     "output_type": "display_data"
    }
   ],
   "source": [
    "# Performance Rating\n",
    "plt.figure(figsize=(5,3))\n",
    "sns.countplot(x='MaritalStatus',hue=\"Attrition\",data=data, palette=\"pastel\")\n",
    "plt.title(\"Marital Status versus Attrition\")\n",
    "plt.show()"
   ]
  },
  {
   "cell_type": "code",
   "execution_count": 27,
   "id": "04ecb9d1",
   "metadata": {},
   "outputs": [
    {
     "data": {
      "image/png": "[encoded data removed]",
      "text/plain": [
       "<Figure size 1080x1080 with 2 Axes>"
      ]
     },
     "metadata": {},
     "output_type": "display_data"
    }
   ],
   "source": [
    "# Checking the correlation of variables\n",
    "# Since there are too many variables, the colours only reflect for the correlations too high or too low\n",
    "corr = data.corr()\n",
    "fig = plt.figure(figsize=(15,15))\n",
    "ax = fig.add_subplot(111)\n",
    "cax = ax.matshow(corr,cmap='coolwarm', vmin=-1, vmax=1)\n",
    "fig.colorbar(cax)\n",
    "ticks = np.arange(0,len(data.columns),1)\n",
    "ax.set_xticks(ticks)\n",
    "plt.xticks(rotation=90)\n",
    "ax.set_yticks(ticks)\n",
    "ax.set_xticklabels(data.columns)\n",
    "ax.set_yticklabels(data.columns)\n",
    "plt.show()"
   ]
  },
  {
   "cell_type": "markdown",
   "id": "34fa25e2",
   "metadata": {},
   "source": [
    "## Model Building - Logistic Regression"
   ]
  },
  {
   "cell_type": "markdown",
   "id": "6a6a27f1",
   "metadata": {},
   "source": [
    "### Train test split"
   ]
  },
  {
   "cell_type": "code",
   "execution_count": 26,
   "id": "14687919",
   "metadata": {},
   "outputs": [],
   "source": [
    "# Train-test split\n",
    "from sklearn.model_selection import train_test_split\n",
    "import statsmodels.api as sm\n",
    "X = data_dummies.drop(['Attrition'], axis=1)\n",
    "y = data_dummies['Attrition']"
   ]
  },
  {
   "cell_type": "markdown",
   "id": "31eec007",
   "metadata": {},
   "source": [
    "### Scaling"
   ]
  },
  {
   "cell_type": "code",
   "execution_count": 27,
   "id": "fdd9d9ca",
   "metadata": {},
   "outputs": [],
   "source": [
    "X_train, X_test, y_train, y_test = train_test_split(X, y, train_size = 0.7, test_size=0.3, random_state=100)\n",
    "from sklearn.preprocessing import StandardScaler\n",
    "scaler = StandardScaler()\n",
    "# Only choosing the features that need to be scaled\n",
    "to_scale = ['Age','DailyRate','DistanceFromHome','Education','EmployeeCount','EnvironmentSatisfaction','HourlyRate',\n",
    "            'JobInvolvement','MonthlyIncome','MonthlyRate','NumCompaniesWorked','PercentSalaryHike','PerformanceRating',\n",
    "           'RelationshipSatisfaction','StockOptionLevel','TotalWorkingYears','TrainingTimesLastYear','WorkLifeBalance',\n",
    "           'YearsAtCompany','YearsInCurrentRole','YearsSinceLastPromotion','YearsWithCurrManager','EmployeeNumber']\n",
    "X_train[to_scale] = scaler.fit_transform(X_train[to_scale])"
   ]
  },
  {
   "cell_type": "code",
   "execution_count": 29,
   "id": "78c94fde",
   "metadata": {},
   "outputs": [
    {
     "data": {
      "text/html": [
       "<table class=\"simpletable\">\n",
       "<caption>Generalized Linear Model Regression Results</caption>\n",
       "<tr>\n",
       "  <th>Dep. Variable:</th>       <td>Attrition</td>    <th>  No. Observations:  </th>  <td>  1029</td> \n",
       "</tr>\n",
       "<tr>\n",
       "  <th>Model:</th>                  <td>GLM</td>       <th>  Df Residuals:      </th>  <td>   983</td> \n",
       "</tr>\n",
       "<tr>\n",
       "  <th>Model Family:</th>        <td>Binomial</td>     <th>  Df Model:          </th>  <td>    45</td> \n",
       "</tr>\n",
       "<tr>\n",
       "  <th>Link Function:</th>         <td>logit</td>      <th>  Scale:             </th> <td>  1.0000</td>\n",
       "</tr>\n",
       "<tr>\n",
       "  <th>Method:</th>                <td>IRLS</td>       <th>  Log-Likelihood:    </th> <td>     nan</td>\n",
       "</tr>\n",
       "<tr>\n",
       "  <th>Date:</th>            <td>Thu, 02 Dec 2021</td> <th>  Deviance:          </th> <td>  12987.</td>\n",
       "</tr>\n",
       "<tr>\n",
       "  <th>Time:</th>                <td>08:37:24</td>     <th>  Pearson chi2:      </th> <td>6.35e+17</td>\n",
       "</tr>\n",
       "<tr>\n",
       "  <th>No. Iterations:</th>         <td>100</td>       <th>                     </th>     <td> </td>   \n",
       "</tr>\n",
       "<tr>\n",
       "  <th>Covariance Type:</th>     <td>nonrobust</td>    <th>                     </th>     <td> </td>   \n",
       "</tr>\n",
       "</table>\n",
       "<table class=\"simpletable\">\n",
       "<tr>\n",
       "                  <td></td>                     <th>coef</th>     <th>std err</th>      <th>z</th>      <th>P>|z|</th>  <th>[0.025</th>    <th>0.975]</th>  \n",
       "</tr>\n",
       "<tr>\n",
       "  <th>const</th>                             <td>-5.432e+14</td> <td> 6.11e+06</td> <td>-8.89e+07</td> <td> 0.000</td> <td>-5.43e+14</td> <td>-5.43e+14</td>\n",
       "</tr>\n",
       "<tr>\n",
       "  <th>Age</th>                               <td>-6.366e+13</td> <td> 2.99e+06</td> <td>-2.13e+07</td> <td> 0.000</td> <td>-6.37e+13</td> <td>-6.37e+13</td>\n",
       "</tr>\n",
       "<tr>\n",
       "  <th>DailyRate</th>                         <td>-4.343e+13</td> <td> 2.14e+06</td> <td>-2.03e+07</td> <td> 0.000</td> <td>-4.34e+13</td> <td>-4.34e+13</td>\n",
       "</tr>\n",
       "<tr>\n",
       "  <th>DistanceFromHome</th>                  <td> 6.138e+13</td> <td> 2.12e+06</td> <td>  2.9e+07</td> <td> 0.000</td> <td> 6.14e+13</td> <td> 6.14e+13</td>\n",
       "</tr>\n",
       "<tr>\n",
       "  <th>Education</th>                         <td>-9.759e+12</td> <td> 2.18e+06</td> <td>-4.47e+06</td> <td> 0.000</td> <td>-9.76e+12</td> <td>-9.76e+12</td>\n",
       "</tr>\n",
       "<tr>\n",
       "  <th>EmployeeCount</th>                     <td>    2.4465</td> <td> 3.25e-08</td> <td> 7.52e+07</td> <td> 0.000</td> <td>    2.446</td> <td>    2.446</td>\n",
       "</tr>\n",
       "<tr>\n",
       "  <th>EmployeeNumber</th>                    <td> -8.89e+13</td> <td> 2.14e+06</td> <td>-4.15e+07</td> <td> 0.000</td> <td>-8.89e+13</td> <td>-8.89e+13</td>\n",
       "</tr>\n",
       "<tr>\n",
       "  <th>EnvironmentSatisfaction</th>           <td>-1.254e+14</td> <td> 2.14e+06</td> <td>-5.86e+07</td> <td> 0.000</td> <td>-1.25e+14</td> <td>-1.25e+14</td>\n",
       "</tr>\n",
       "<tr>\n",
       "  <th>HourlyRate</th>                        <td> 2.865e+13</td> <td> 2.15e+06</td> <td> 1.33e+07</td> <td> 0.000</td> <td> 2.86e+13</td> <td> 2.86e+13</td>\n",
       "</tr>\n",
       "<tr>\n",
       "  <th>JobInvolvement</th>                    <td>-1.601e+14</td> <td> 2.15e+06</td> <td>-7.46e+07</td> <td> 0.000</td> <td> -1.6e+14</td> <td> -1.6e+14</td>\n",
       "</tr>\n",
       "<tr>\n",
       "  <th>JobLevel</th>                          <td>-1.657e+14</td> <td> 6.97e+06</td> <td>-2.38e+07</td> <td> 0.000</td> <td>-1.66e+14</td> <td>-1.66e+14</td>\n",
       "</tr>\n",
       "<tr>\n",
       "  <th>JobSatisfaction</th>                   <td>-4.526e+13</td> <td> 1.96e+06</td> <td>-2.31e+07</td> <td> 0.000</td> <td>-4.53e+13</td> <td>-4.53e+13</td>\n",
       "</tr>\n",
       "<tr>\n",
       "  <th>MonthlyIncome</th>                     <td> 4.425e+13</td> <td> 8.63e+06</td> <td> 5.13e+06</td> <td> 0.000</td> <td> 4.42e+13</td> <td> 4.42e+13</td>\n",
       "</tr>\n",
       "<tr>\n",
       "  <th>MonthlyRate</th>                       <td>-6.666e+13</td> <td> 2.13e+06</td> <td>-3.13e+07</td> <td> 0.000</td> <td>-6.67e+13</td> <td>-6.67e+13</td>\n",
       "</tr>\n",
       "<tr>\n",
       "  <th>NumCompaniesWorked</th>                <td> 1.266e+14</td> <td> 2.34e+06</td> <td> 5.41e+07</td> <td> 0.000</td> <td> 1.27e+14</td> <td> 1.27e+14</td>\n",
       "</tr>\n",
       "<tr>\n",
       "  <th>OverTime</th>                          <td> 3.823e+14</td> <td> 4.77e+06</td> <td> 8.01e+07</td> <td> 0.000</td> <td> 3.82e+14</td> <td> 3.82e+14</td>\n",
       "</tr>\n",
       "<tr>\n",
       "  <th>PercentSalaryHike</th>                 <td>-5.022e+11</td> <td>  3.4e+06</td> <td>-1.48e+05</td> <td> 0.000</td> <td>-5.02e+11</td> <td>-5.02e+11</td>\n",
       "</tr>\n",
       "<tr>\n",
       "  <th>PerformanceRating</th>                 <td> 2.637e+13</td> <td> 3.39e+06</td> <td> 7.77e+06</td> <td> 0.000</td> <td> 2.64e+13</td> <td> 2.64e+13</td>\n",
       "</tr>\n",
       "<tr>\n",
       "  <th>RelationshipSatisfaction</th>          <td>-1.241e+14</td> <td> 2.15e+06</td> <td>-5.77e+07</td> <td> 0.000</td> <td>-1.24e+14</td> <td>-1.24e+14</td>\n",
       "</tr>\n",
       "<tr>\n",
       "  <th>StockOptionLevel</th>                  <td>-3.941e+13</td> <td> 2.95e+06</td> <td>-1.34e+07</td> <td> 0.000</td> <td>-3.94e+13</td> <td>-3.94e+13</td>\n",
       "</tr>\n",
       "<tr>\n",
       "  <th>TotalWorkingYears</th>                 <td>-1.644e+14</td> <td> 4.57e+06</td> <td> -3.6e+07</td> <td> 0.000</td> <td>-1.64e+14</td> <td>-1.64e+14</td>\n",
       "</tr>\n",
       "<tr>\n",
       "  <th>TrainingTimesLastYear</th>             <td>-8.234e+13</td> <td> 2.15e+06</td> <td>-3.83e+07</td> <td> 0.000</td> <td>-8.23e+13</td> <td>-8.23e+13</td>\n",
       "</tr>\n",
       "<tr>\n",
       "  <th>WorkLifeBalance</th>                   <td>-7.225e+13</td> <td> 2.15e+06</td> <td>-3.36e+07</td> <td> 0.000</td> <td>-7.22e+13</td> <td>-7.22e+13</td>\n",
       "</tr>\n",
       "<tr>\n",
       "  <th>YearsAtCompany</th>                    <td> 1.409e+14</td> <td> 4.66e+06</td> <td> 3.02e+07</td> <td> 0.000</td> <td> 1.41e+14</td> <td> 1.41e+14</td>\n",
       "</tr>\n",
       "<tr>\n",
       "  <th>YearsInCurrentRole</th>                <td>-2.642e+14</td> <td> 3.49e+06</td> <td>-7.57e+07</td> <td> 0.000</td> <td>-2.64e+14</td> <td>-2.64e+14</td>\n",
       "</tr>\n",
       "<tr>\n",
       "  <th>YearsSinceLastPromotion</th>           <td> 2.457e+14</td> <td> 2.84e+06</td> <td> 8.66e+07</td> <td> 0.000</td> <td> 2.46e+14</td> <td> 2.46e+14</td>\n",
       "</tr>\n",
       "<tr>\n",
       "  <th>YearsWithCurrManager</th>              <td>-1.257e+14</td> <td> 3.46e+06</td> <td>-3.63e+07</td> <td> 0.000</td> <td>-1.26e+14</td> <td>-1.26e+14</td>\n",
       "</tr>\n",
       "<tr>\n",
       "  <th>BusinessTravel_Non-Travel</th>         <td>-4.481e+14</td> <td> 5.39e+06</td> <td>-8.31e+07</td> <td> 0.000</td> <td>-4.48e+14</td> <td>-4.48e+14</td>\n",
       "</tr>\n",
       "<tr>\n",
       "  <th>BusinessTravel_Travel_Frequently</th>  <td> 1.428e+14</td> <td> 4.48e+06</td> <td> 3.19e+07</td> <td> 0.000</td> <td> 1.43e+14</td> <td> 1.43e+14</td>\n",
       "</tr>\n",
       "<tr>\n",
       "  <th>BusinessTravel_Travel_Rarely</th>      <td>-2.378e+14</td> <td> 3.53e+06</td> <td>-6.73e+07</td> <td> 0.000</td> <td>-2.38e+14</td> <td>-2.38e+14</td>\n",
       "</tr>\n",
       "<tr>\n",
       "  <th>Department_Human Resources</th>        <td>-1.926e+15</td> <td> 2.05e+07</td> <td> -9.4e+07</td> <td> 0.000</td> <td>-1.93e+15</td> <td>-1.93e+15</td>\n",
       "</tr>\n",
       "<tr>\n",
       "  <th>Department_Research & Development</th> <td> 7.463e+14</td> <td> 1.24e+07</td> <td>    6e+07</td> <td> 0.000</td> <td> 7.46e+14</td> <td> 7.46e+14</td>\n",
       "</tr>\n",
       "<tr>\n",
       "  <th>Department_Sales</th>                  <td>  6.36e+14</td> <td> 1.35e+07</td> <td>  4.7e+07</td> <td> 0.000</td> <td> 6.36e+14</td> <td> 6.36e+14</td>\n",
       "</tr>\n",
       "<tr>\n",
       "  <th>EducationField_Human Resources</th>    <td>  1.21e+14</td> <td> 1.71e+07</td> <td> 7.08e+06</td> <td> 0.000</td> <td> 1.21e+14</td> <td> 1.21e+14</td>\n",
       "</tr>\n",
       "<tr>\n",
       "  <th>EducationField_Life Sciences</th>      <td>-1.283e+14</td> <td> 5.03e+06</td> <td>-2.55e+07</td> <td> 0.000</td> <td>-1.28e+14</td> <td>-1.28e+14</td>\n",
       "</tr>\n",
       "<tr>\n",
       "  <th>EducationField_Marketing</th>          <td>-1.031e+14</td> <td> 7.91e+06</td> <td> -1.3e+07</td> <td> 0.000</td> <td>-1.03e+14</td> <td>-1.03e+14</td>\n",
       "</tr>\n",
       "<tr>\n",
       "  <th>EducationField_Medical</th>            <td>-4.392e+14</td> <td>  5.2e+06</td> <td>-8.45e+07</td> <td> 0.000</td> <td>-4.39e+14</td> <td>-4.39e+14</td>\n",
       "</tr>\n",
       "<tr>\n",
       "  <th>EducationField_Other</th>              <td>-2.803e+14</td> <td> 8.75e+06</td> <td> -3.2e+07</td> <td> 0.000</td> <td> -2.8e+14</td> <td> -2.8e+14</td>\n",
       "</tr>\n",
       "<tr>\n",
       "  <th>EducationField_Technical Degree</th>   <td> 2.868e+14</td> <td> 6.96e+06</td> <td> 4.12e+07</td> <td> 0.000</td> <td> 2.87e+14</td> <td> 2.87e+14</td>\n",
       "</tr>\n",
       "<tr>\n",
       "  <th>Gender_Female</th>                     <td>-3.265e+14</td> <td> 3.77e+06</td> <td>-8.66e+07</td> <td> 0.000</td> <td>-3.26e+14</td> <td>-3.26e+14</td>\n",
       "</tr>\n",
       "<tr>\n",
       "  <th>Gender_Male</th>                       <td>-2.167e+14</td> <td> 3.74e+06</td> <td>-5.79e+07</td> <td> 0.000</td> <td>-2.17e+14</td> <td>-2.17e+14</td>\n",
       "</tr>\n",
       "<tr>\n",
       "  <th>JobRole_Healthcare Representative</th> <td>-5.225e+14</td> <td> 9.72e+06</td> <td>-5.37e+07</td> <td> 0.000</td> <td>-5.23e+14</td> <td>-5.23e+14</td>\n",
       "</tr>\n",
       "<tr>\n",
       "  <th>JobRole_Human Resources</th>           <td>  1.96e+15</td> <td> 2.63e+07</td> <td> 7.46e+07</td> <td> 0.000</td> <td> 1.96e+15</td> <td> 1.96e+15</td>\n",
       "</tr>\n",
       "<tr>\n",
       "  <th>JobRole_Laboratory Technician</th>     <td>-1.464e+14</td> <td> 9.67e+06</td> <td>-1.51e+07</td> <td> 0.000</td> <td>-1.46e+14</td> <td>-1.46e+14</td>\n",
       "</tr>\n",
       "<tr>\n",
       "  <th>JobRole_Manager</th>                   <td>-5.384e+14</td> <td> 1.29e+07</td> <td>-4.18e+07</td> <td> 0.000</td> <td>-5.38e+14</td> <td>-5.38e+14</td>\n",
       "</tr>\n",
       "<tr>\n",
       "  <th>JobRole_Manufacturing Director</th>    <td>-2.336e+14</td> <td> 9.53e+06</td> <td>-2.45e+07</td> <td> 0.000</td> <td>-2.34e+14</td> <td>-2.34e+14</td>\n",
       "</tr>\n",
       "<tr>\n",
       "  <th>JobRole_Research Director</th>         <td>-5.591e+14</td> <td> 1.43e+07</td> <td> -3.9e+07</td> <td> 0.000</td> <td>-5.59e+14</td> <td>-5.59e+14</td>\n",
       "</tr>\n",
       "<tr>\n",
       "  <th>JobRole_Research Scientist</th>        <td>-4.924e+14</td> <td> 9.59e+06</td> <td>-5.13e+07</td> <td> 0.000</td> <td>-4.92e+14</td> <td>-4.92e+14</td>\n",
       "</tr>\n",
       "<tr>\n",
       "  <th>JobRole_Sales Executive</th>           <td> 8.368e+13</td> <td> 1.36e+07</td> <td> 6.16e+06</td> <td> 0.000</td> <td> 8.37e+13</td> <td> 8.37e+13</td>\n",
       "</tr>\n",
       "<tr>\n",
       "  <th>JobRole_Sales Representative</th>      <td> -9.48e+13</td> <td> 1.57e+07</td> <td>-6.03e+06</td> <td> 0.000</td> <td>-9.48e+13</td> <td>-9.48e+13</td>\n",
       "</tr>\n",
       "<tr>\n",
       "  <th>MaritalStatus_Divorced</th>            <td>-3.726e+14</td> <td> 4.64e+06</td> <td>-8.02e+07</td> <td> 0.000</td> <td>-3.73e+14</td> <td>-3.73e+14</td>\n",
       "</tr>\n",
       "<tr>\n",
       "  <th>MaritalStatus_Married</th>             <td>-9.457e+13</td> <td> 3.48e+06</td> <td>-2.72e+07</td> <td> 0.000</td> <td>-9.46e+13</td> <td>-9.46e+13</td>\n",
       "</tr>\n",
       "<tr>\n",
       "  <th>MaritalStatus_Single</th>              <td>-7.602e+13</td> <td> 4.81e+06</td> <td>-1.58e+07</td> <td> 0.000</td> <td> -7.6e+13</td> <td> -7.6e+13</td>\n",
       "</tr>\n",
       "</table>"
      ],
      "text/plain": [
       "<class 'statsmodels.iolib.summary.Summary'>\n",
       "\"\"\"\n",
       "                 Generalized Linear Model Regression Results                  \n",
       "==============================================================================\n",
       "Dep. Variable:              Attrition   No. Observations:                 1029\n",
       "Model:                            GLM   Df Residuals:                      983\n",
       "Model Family:                Binomial   Df Model:                           45\n",
       "Link Function:                  logit   Scale:                          1.0000\n",
       "Method:                          IRLS   Log-Likelihood:                    nan\n",
       "Date:                Thu, 02 Dec 2021   Deviance:                       12987.\n",
       "Time:                        08:37:24   Pearson chi2:                 6.35e+17\n",
       "No. Iterations:                   100                                         \n",
       "Covariance Type:            nonrobust                                         \n",
       "=====================================================================================================\n",
       "                                        coef    std err          z      P>|z|      [0.025      0.975]\n",
       "-----------------------------------------------------------------------------------------------------\n",
       "const                             -5.432e+14   6.11e+06  -8.89e+07      0.000   -5.43e+14   -5.43e+14\n",
       "Age                               -6.366e+13   2.99e+06  -2.13e+07      0.000   -6.37e+13   -6.37e+13\n",
       "DailyRate                         -4.343e+13   2.14e+06  -2.03e+07      0.000   -4.34e+13   -4.34e+13\n",
       "DistanceFromHome                   6.138e+13   2.12e+06    2.9e+07      0.000    6.14e+13    6.14e+13\n",
       "Education                         -9.759e+12   2.18e+06  -4.47e+06      0.000   -9.76e+12   -9.76e+12\n",
       "EmployeeCount                         2.4465   3.25e-08   7.52e+07      0.000       2.446       2.446\n",
       "EmployeeNumber                     -8.89e+13   2.14e+06  -4.15e+07      0.000   -8.89e+13   -8.89e+13\n",
       "EnvironmentSatisfaction           -1.254e+14   2.14e+06  -5.86e+07      0.000   -1.25e+14   -1.25e+14\n",
       "HourlyRate                         2.865e+13   2.15e+06   1.33e+07      0.000    2.86e+13    2.86e+13\n",
       "JobInvolvement                    -1.601e+14   2.15e+06  -7.46e+07      0.000    -1.6e+14    -1.6e+14\n",
       "JobLevel                          -1.657e+14   6.97e+06  -2.38e+07      0.000   -1.66e+14   -1.66e+14\n",
       "JobSatisfaction                   -4.526e+13   1.96e+06  -2.31e+07      0.000   -4.53e+13   -4.53e+13\n",
       "MonthlyIncome                      4.425e+13   8.63e+06   5.13e+06      0.000    4.42e+13    4.42e+13\n",
       "MonthlyRate                       -6.666e+13   2.13e+06  -3.13e+07      0.000   -6.67e+13   -6.67e+13\n",
       "NumCompaniesWorked                 1.266e+14   2.34e+06   5.41e+07      0.000    1.27e+14    1.27e+14\n",
       "OverTime                           3.823e+14   4.77e+06   8.01e+07      0.000    3.82e+14    3.82e+14\n",
       "PercentSalaryHike                 -5.022e+11    3.4e+06  -1.48e+05      0.000   -5.02e+11   -5.02e+11\n",
       "PerformanceRating                  2.637e+13   3.39e+06   7.77e+06      0.000    2.64e+13    2.64e+13\n",
       "RelationshipSatisfaction          -1.241e+14   2.15e+06  -5.77e+07      0.000   -1.24e+14   -1.24e+14\n",
       "StockOptionLevel                  -3.941e+13   2.95e+06  -1.34e+07      0.000   -3.94e+13   -3.94e+13\n",
       "TotalWorkingYears                 -1.644e+14   4.57e+06   -3.6e+07      0.000   -1.64e+14   -1.64e+14\n",
       "TrainingTimesLastYear             -8.234e+13   2.15e+06  -3.83e+07      0.000   -8.23e+13   -8.23e+13\n",
       "WorkLifeBalance                   -7.225e+13   2.15e+06  -3.36e+07      0.000   -7.22e+13   -7.22e+13\n",
       "YearsAtCompany                     1.409e+14   4.66e+06   3.02e+07      0.000    1.41e+14    1.41e+14\n",
       "YearsInCurrentRole                -2.642e+14   3.49e+06  -7.57e+07      0.000   -2.64e+14   -2.64e+14\n",
       "YearsSinceLastPromotion            2.457e+14   2.84e+06   8.66e+07      0.000    2.46e+14    2.46e+14\n",
       "YearsWithCurrManager              -1.257e+14   3.46e+06  -3.63e+07      0.000   -1.26e+14   -1.26e+14\n",
       "BusinessTravel_Non-Travel         -4.481e+14   5.39e+06  -8.31e+07      0.000   -4.48e+14   -4.48e+14\n",
       "BusinessTravel_Travel_Frequently   1.428e+14   4.48e+06   3.19e+07      0.000    1.43e+14    1.43e+14\n",
       "BusinessTravel_Travel_Rarely      -2.378e+14   3.53e+06  -6.73e+07      0.000   -2.38e+14   -2.38e+14\n",
       "Department_Human Resources        -1.926e+15   2.05e+07   -9.4e+07      0.000   -1.93e+15   -1.93e+15\n",
       "Department_Research & Development  7.463e+14   1.24e+07      6e+07      0.000    7.46e+14    7.46e+14\n",
       "Department_Sales                    6.36e+14   1.35e+07    4.7e+07      0.000    6.36e+14    6.36e+14\n",
       "EducationField_Human Resources      1.21e+14   1.71e+07   7.08e+06      0.000    1.21e+14    1.21e+14\n",
       "EducationField_Life Sciences      -1.283e+14   5.03e+06  -2.55e+07      0.000   -1.28e+14   -1.28e+14\n",
       "EducationField_Marketing          -1.031e+14   7.91e+06   -1.3e+07      0.000   -1.03e+14   -1.03e+14\n",
       "EducationField_Medical            -4.392e+14    5.2e+06  -8.45e+07      0.000   -4.39e+14   -4.39e+14\n",
       "EducationField_Other              -2.803e+14   8.75e+06   -3.2e+07      0.000    -2.8e+14    -2.8e+14\n",
       "EducationField_Technical Degree    2.868e+14   6.96e+06   4.12e+07      0.000    2.87e+14    2.87e+14\n",
       "Gender_Female                     -3.265e+14   3.77e+06  -8.66e+07      0.000   -3.26e+14   -3.26e+14\n",
       "Gender_Male                       -2.167e+14   3.74e+06  -5.79e+07      0.000   -2.17e+14   -2.17e+14\n",
       "JobRole_Healthcare Representative -5.225e+14   9.72e+06  -5.37e+07      0.000   -5.23e+14   -5.23e+14\n",
       "JobRole_Human Resources             1.96e+15   2.63e+07   7.46e+07      0.000    1.96e+15    1.96e+15\n",
       "JobRole_Laboratory Technician     -1.464e+14   9.67e+06  -1.51e+07      0.000   -1.46e+14   -1.46e+14\n",
       "JobRole_Manager                   -5.384e+14   1.29e+07  -4.18e+07      0.000   -5.38e+14   -5.38e+14\n",
       "JobRole_Manufacturing Director    -2.336e+14   9.53e+06  -2.45e+07      0.000   -2.34e+14   -2.34e+14\n",
       "JobRole_Research Director         -5.591e+14   1.43e+07   -3.9e+07      0.000   -5.59e+14   -5.59e+14\n",
       "JobRole_Research Scientist        -4.924e+14   9.59e+06  -5.13e+07      0.000   -4.92e+14   -4.92e+14\n",
       "JobRole_Sales Executive            8.368e+13   1.36e+07   6.16e+06      0.000    8.37e+13    8.37e+13\n",
       "JobRole_Sales Representative       -9.48e+13   1.57e+07  -6.03e+06      0.000   -9.48e+13   -9.48e+13\n",
       "MaritalStatus_Divorced            -3.726e+14   4.64e+06  -8.02e+07      0.000   -3.73e+14   -3.73e+14\n",
       "MaritalStatus_Married             -9.457e+13   3.48e+06  -2.72e+07      0.000   -9.46e+13   -9.46e+13\n",
       "MaritalStatus_Single              -7.602e+13   4.81e+06  -1.58e+07      0.000    -7.6e+13    -7.6e+13\n",
       "=====================================================================================================\n",
       "\"\"\""
      ]
     },
     "execution_count": 29,
     "metadata": {},
     "output_type": "execute_result"
    }
   ],
   "source": [
    "# First model with all variables\n",
    "logm1 = sm.GLM(y_train,(sm.add_constant(X_train)), family = sm.families.Binomial())\n",
    "logm1.fit().summary()"
   ]
  },
  {
   "cell_type": "markdown",
   "id": "f71f422f",
   "metadata": {},
   "source": [
    "### Using RFE for feature selection"
   ]
  },
  {
   "cell_type": "code",
   "execution_count": 30,
   "id": "0e378d98",
   "metadata": {},
   "outputs": [
    {
     "data": {
      "text/plain": [
       "array([False, False, False, False, False, False, False, False, False,\n",
       "       False, False, False, False, False,  True, False, False, False,\n",
       "       False, False, False, False, False, False, False, False, False,\n",
       "        True, False, False,  True, False, False, False, False, False,\n",
       "       False, False, False, False, False, False,  True, False, False,\n",
       "       False, False, False, False, False, False,  True])"
      ]
     },
     "execution_count": 30,
     "metadata": {},
     "output_type": "execute_result"
    }
   ],
   "source": [
    "from sklearn.feature_selection import RFE\n",
    "from sklearn.linear_model import LogisticRegression\n",
    "logreg = LogisticRegression()\n",
    "rfe = RFE(logreg, 5)\n",
    "rfe = rfe.fit(X_train, y_train)\n",
    "rfe.support_"
   ]
  },
  {
   "cell_type": "code",
   "execution_count": 32,
   "id": "80f4290e",
   "metadata": {},
   "outputs": [
    {
     "data": {
      "text/html": [
       "<table class=\"simpletable\">\n",
       "<caption>Generalized Linear Model Regression Results</caption>\n",
       "<tr>\n",
       "  <th>Dep. Variable:</th>       <td>Attrition</td>    <th>  No. Observations:  </th>  <td>  1029</td> \n",
       "</tr>\n",
       "<tr>\n",
       "  <th>Model:</th>                  <td>GLM</td>       <th>  Df Residuals:      </th>  <td>  1023</td> \n",
       "</tr>\n",
       "<tr>\n",
       "  <th>Model Family:</th>        <td>Binomial</td>     <th>  Df Model:          </th>  <td>     5</td> \n",
       "</tr>\n",
       "<tr>\n",
       "  <th>Link Function:</th>         <td>logit</td>      <th>  Scale:             </th> <td>  1.0000</td>\n",
       "</tr>\n",
       "<tr>\n",
       "  <th>Method:</th>                <td>IRLS</td>       <th>  Log-Likelihood:    </th> <td> -382.70</td>\n",
       "</tr>\n",
       "<tr>\n",
       "  <th>Date:</th>            <td>Thu, 02 Dec 2021</td> <th>  Deviance:          </th> <td>  765.40</td>\n",
       "</tr>\n",
       "<tr>\n",
       "  <th>Time:</th>                <td>08:38:05</td>     <th>  Pearson chi2:      </th> <td>1.07e+03</td>\n",
       "</tr>\n",
       "<tr>\n",
       "  <th>No. Iterations:</th>          <td>6</td>        <th>                     </th>     <td> </td>   \n",
       "</tr>\n",
       "<tr>\n",
       "  <th>Covariance Type:</th>     <td>nonrobust</td>    <th>                     </th>     <td> </td>   \n",
       "</tr>\n",
       "</table>\n",
       "<table class=\"simpletable\">\n",
       "<tr>\n",
       "                  <td></td>                     <th>coef</th>     <th>std err</th>      <th>z</th>      <th>P>|z|</th>  <th>[0.025</th>    <th>0.975]</th>  \n",
       "</tr>\n",
       "<tr>\n",
       "  <th>const</th>                             <td>   -2.5718</td> <td>    0.201</td> <td>  -12.789</td> <td> 0.000</td> <td>   -2.966</td> <td>   -2.178</td>\n",
       "</tr>\n",
       "<tr>\n",
       "  <th>OverTime</th>                          <td>    1.5824</td> <td>    0.190</td> <td>    8.349</td> <td> 0.000</td> <td>    1.211</td> <td>    1.954</td>\n",
       "</tr>\n",
       "<tr>\n",
       "  <th>BusinessTravel_Travel_Frequently</th>  <td>    0.8906</td> <td>    0.207</td> <td>    4.311</td> <td> 0.000</td> <td>    0.486</td> <td>    1.296</td>\n",
       "</tr>\n",
       "<tr>\n",
       "  <th>Department_Research & Development</th> <td>   -0.9119</td> <td>    0.215</td> <td>   -4.246</td> <td> 0.000</td> <td>   -1.333</td> <td>   -0.491</td>\n",
       "</tr>\n",
       "<tr>\n",
       "  <th>JobRole_Laboratory Technician</th>     <td>    1.2862</td> <td>    0.248</td> <td>    5.181</td> <td> 0.000</td> <td>    0.800</td> <td>    1.773</td>\n",
       "</tr>\n",
       "<tr>\n",
       "  <th>MaritalStatus_Single</th>              <td>    1.0153</td> <td>    0.187</td> <td>    5.435</td> <td> 0.000</td> <td>    0.649</td> <td>    1.381</td>\n",
       "</tr>\n",
       "</table>"
      ],
      "text/plain": [
       "<class 'statsmodels.iolib.summary.Summary'>\n",
       "\"\"\"\n",
       "                 Generalized Linear Model Regression Results                  \n",
       "==============================================================================\n",
       "Dep. Variable:              Attrition   No. Observations:                 1029\n",
       "Model:                            GLM   Df Residuals:                     1023\n",
       "Model Family:                Binomial   Df Model:                            5\n",
       "Link Function:                  logit   Scale:                          1.0000\n",
       "Method:                          IRLS   Log-Likelihood:                -382.70\n",
       "Date:                Thu, 02 Dec 2021   Deviance:                       765.40\n",
       "Time:                        08:38:05   Pearson chi2:                 1.07e+03\n",
       "No. Iterations:                     6                                         \n",
       "Covariance Type:            nonrobust                                         \n",
       "=====================================================================================================\n",
       "                                        coef    std err          z      P>|z|      [0.025      0.975]\n",
       "-----------------------------------------------------------------------------------------------------\n",
       "const                                -2.5718      0.201    -12.789      0.000      -2.966      -2.178\n",
       "OverTime                              1.5824      0.190      8.349      0.000       1.211       1.954\n",
       "BusinessTravel_Travel_Frequently      0.8906      0.207      4.311      0.000       0.486       1.296\n",
       "Department_Research & Development    -0.9119      0.215     -4.246      0.000      -1.333      -0.491\n",
       "JobRole_Laboratory Technician         1.2862      0.248      5.181      0.000       0.800       1.773\n",
       "MaritalStatus_Single                  1.0153      0.187      5.435      0.000       0.649       1.381\n",
       "=====================================================================================================\n",
       "\"\"\""
      ]
     },
     "execution_count": 32,
     "metadata": {},
     "output_type": "execute_result"
    }
   ],
   "source": [
    "# list(zip(X_train.columns, rfe.support_, rfe.ranking_))\n",
    "col = X_train.columns[rfe.support_]\n",
    "X_train.columns[~rfe.support_]\n",
    "\n",
    "# Using only the RFE chosen variables for the first model\n",
    "X_train_sm = sm.add_constant(X_train[col])\n",
    "logm2 = sm.GLM(y_train, X_train_sm,family = sm.families.Binomial())\n",
    "res = logm2.fit()\n",
    "res.summary()"
   ]
  },
  {
   "cell_type": "markdown",
   "id": "d9504a1c",
   "metadata": {},
   "source": [
    "#### Getting the predicted values"
   ]
  },
  {
   "cell_type": "code",
   "execution_count": 33,
   "id": "f81ffd35",
   "metadata": {},
   "outputs": [
    {
     "data": {
      "text/html": [
       "<div>\n",
       "<style scoped>\n",
       "    .dataframe tbody tr th:only-of-type {\n",
       "        vertical-align: middle;\n",
       "    }\n",
       "\n",
       "    .dataframe tbody tr th {\n",
       "        vertical-align: top;\n",
       "    }\n",
       "\n",
       "    .dataframe thead th {\n",
       "        text-align: right;\n",
       "    }\n",
       "</style>\n",
       "<table border=\"1\" class=\"dataframe\">\n",
       "  <thead>\n",
       "    <tr style=\"text-align: right;\">\n",
       "      <th></th>\n",
       "      <th>Attrition</th>\n",
       "      <th>Attrition_Prob</th>\n",
       "      <th>Employee Number</th>\n",
       "    </tr>\n",
       "  </thead>\n",
       "  <tbody>\n",
       "    <tr>\n",
       "      <th>0</th>\n",
       "      <td>0</td>\n",
       "      <td>0.070974</td>\n",
       "      <td>178</td>\n",
       "    </tr>\n",
       "    <tr>\n",
       "      <th>1</th>\n",
       "      <td>0</td>\n",
       "      <td>0.078096</td>\n",
       "      <td>971</td>\n",
       "    </tr>\n",
       "    <tr>\n",
       "      <th>2</th>\n",
       "      <td>0</td>\n",
       "      <td>0.174142</td>\n",
       "      <td>1172</td>\n",
       "    </tr>\n",
       "  </tbody>\n",
       "</table>\n",
       "</div>"
      ],
      "text/plain": [
       "   Attrition  Attrition_Prob  Employee Number\n",
       "0          0        0.070974              178\n",
       "1          0        0.078096              971\n",
       "2          0        0.174142             1172"
      ]
     },
     "execution_count": 33,
     "metadata": {},
     "output_type": "execute_result"
    }
   ],
   "source": [
    "y_train_pred = res.predict(X_train_sm)\n",
    "y_train_pred = y_train_pred.values.reshape(-1)\n",
    "y_train_pred_final = pd.DataFrame({'Attrition':y_train.values, 'Attrition_Prob':y_train_pred})\n",
    "y_train_pred_final['Employee Number'] = y_train.index\n",
    "y_train_pred_final.head(3)"
   ]
  },
  {
   "cell_type": "markdown",
   "id": "83907b98",
   "metadata": {},
   "source": [
    "#### Creating a new column 'predicted' with 1 if attrition is greater than 0.5"
   ]
  },
  {
   "cell_type": "code",
   "execution_count": 34,
   "id": "577e38bd",
   "metadata": {},
   "outputs": [
    {
     "data": {
      "text/html": [
       "<div>\n",
       "<style scoped>\n",
       "    .dataframe tbody tr th:only-of-type {\n",
       "        vertical-align: middle;\n",
       "    }\n",
       "\n",
       "    .dataframe tbody tr th {\n",
       "        vertical-align: top;\n",
       "    }\n",
       "\n",
       "    .dataframe thead th {\n",
       "        text-align: right;\n",
       "    }\n",
       "</style>\n",
       "<table border=\"1\" class=\"dataframe\">\n",
       "  <thead>\n",
       "    <tr style=\"text-align: right;\">\n",
       "      <th></th>\n",
       "      <th>Attrition</th>\n",
       "      <th>Attrition_Prob</th>\n",
       "      <th>Employee Number</th>\n",
       "      <th>predicted</th>\n",
       "    </tr>\n",
       "  </thead>\n",
       "  <tbody>\n",
       "    <tr>\n",
       "      <th>0</th>\n",
       "      <td>0</td>\n",
       "      <td>0.070974</td>\n",
       "      <td>178</td>\n",
       "      <td>0</td>\n",
       "    </tr>\n",
       "    <tr>\n",
       "      <th>1</th>\n",
       "      <td>0</td>\n",
       "      <td>0.078096</td>\n",
       "      <td>971</td>\n",
       "      <td>0</td>\n",
       "    </tr>\n",
       "    <tr>\n",
       "      <th>2</th>\n",
       "      <td>0</td>\n",
       "      <td>0.174142</td>\n",
       "      <td>1172</td>\n",
       "      <td>0</td>\n",
       "    </tr>\n",
       "    <tr>\n",
       "      <th>3</th>\n",
       "      <td>1</td>\n",
       "      <td>0.350901</td>\n",
       "      <td>667</td>\n",
       "      <td>0</td>\n",
       "    </tr>\n",
       "    <tr>\n",
       "      <th>4</th>\n",
       "      <td>0</td>\n",
       "      <td>0.099973</td>\n",
       "      <td>399</td>\n",
       "      <td>0</td>\n",
       "    </tr>\n",
       "  </tbody>\n",
       "</table>\n",
       "</div>"
      ],
      "text/plain": [
       "   Attrition  Attrition_Prob  Employee Number  predicted\n",
       "0          0        0.070974              178          0\n",
       "1          0        0.078096              971          0\n",
       "2          0        0.174142             1172          0\n",
       "3          1        0.350901              667          0\n",
       "4          0        0.099973              399          0"
      ]
     },
     "execution_count": 34,
     "metadata": {},
     "output_type": "execute_result"
    }
   ],
   "source": [
    "y_train_pred_final['predicted'] = y_train_pred_final.Attrition_Prob.map(lambda x: 1 if x > 0.5 else 0)\n",
    "y_train_pred_final.head()"
   ]
  },
  {
   "cell_type": "markdown",
   "id": "80ac48fc",
   "metadata": {},
   "source": [
    "### Checking metrics"
   ]
  },
  {
   "cell_type": "code",
   "execution_count": 35,
   "id": "92b9f1e7",
   "metadata": {},
   "outputs": [],
   "source": [
    "# Predicted   not_churn  churn\n",
    "# Actual               \n",
    "# not_churn      834      28\n",
    "# churn          127      40 "
   ]
  },
  {
   "cell_type": "code",
   "execution_count": 37,
   "id": "198f3227",
   "metadata": {},
   "outputs": [
    {
     "name": "stdout",
     "output_type": "stream",
     "text": [
      "[[834  28]\n",
      " [127  40]]\n"
     ]
    }
   ],
   "source": [
    "from sklearn import metrics\n",
    "confusion = metrics.confusion_matrix(y_train_pred_final.Attrition, y_train_pred_final.predicted)\n",
    "print(confusion)"
   ]
  },
  {
   "cell_type": "markdown",
   "id": "1b07bbae",
   "metadata": {},
   "source": [
    "#### Creating a new column 'predicted_2' considering probability cut off as 0.2"
   ]
  },
  {
   "cell_type": "code",
   "execution_count": 38,
   "id": "cf85b924",
   "metadata": {},
   "outputs": [
    {
     "name": "stdout",
     "output_type": "stream",
     "text": [
      "[[676 186]\n",
      " [ 65 102]]\n"
     ]
    }
   ],
   "source": [
    "y_train_pred_final['predicted_2'] = y_train_pred_final.Attrition_Prob.map(lambda x: 1 if x > 0.2 else 0)\n",
    "confusion = metrics.confusion_matrix(y_train_pred_final.Attrition, y_train_pred_final.predicted_2)\n",
    "print(confusion)"
   ]
  },
  {
   "cell_type": "markdown",
   "id": "2428b765",
   "metadata": {},
   "source": [
    "#### Creating a new column 'predicted_1' considering probability cut off as 0.1"
   ]
  },
  {
   "cell_type": "code",
   "execution_count": 39,
   "id": "171d875e",
   "metadata": {},
   "outputs": [
    {
     "name": "stdout",
     "output_type": "stream",
     "text": [
      "[[510 352]\n",
      " [ 33 134]]\n"
     ]
    }
   ],
   "source": [
    "y_train_pred_final['predicted_1'] = y_train_pred_final.Attrition_Prob.map(lambda x: 1 if x > 0.1 else 0)\n",
    "confusion = metrics.confusion_matrix(y_train_pred_final.Attrition, y_train_pred_final.predicted_1)\n",
    "print(confusion)"
   ]
  },
  {
   "cell_type": "code",
   "execution_count": 40,
   "id": "240d80c1",
   "metadata": {},
   "outputs": [
    {
     "name": "stdout",
     "output_type": "stream",
     "text": [
      "Using 0.5 as the criteria:  0.8493683187560739\n",
      "Using 0.2 as the criteria:  0.7560738581146744\n",
      "Using 0.1 as the criteria:  0.6258503401360545\n"
     ]
    }
   ],
   "source": [
    "# Checking each of these columns' accuracies\n",
    "print(\"Using 0.5 as the criteria: \",metrics.accuracy_score(y_train_pred_final.Attrition, y_train_pred_final.predicted))\n",
    "print(\"Using 0.2 as the criteria: \",metrics.accuracy_score(y_train_pred_final.Attrition, y_train_pred_final.predicted_2))\n",
    "print(\"Using 0.1 as the criteria: \",metrics.accuracy_score(y_train_pred_final.Attrition, y_train_pred_final.predicted_1))"
   ]
  },
  {
   "cell_type": "markdown",
   "id": "aaf6192f",
   "metadata": {},
   "source": [
    "#### Getting the recall and precision score"
   ]
  },
  {
   "cell_type": "code",
   "execution_count": 41,
   "id": "4f9cdf3a",
   "metadata": {},
   "outputs": [],
   "source": [
    "# Recall is TP / TP + FN\n",
    "# Precision is TP / TP + FP"
   ]
  },
  {
   "cell_type": "code",
   "execution_count": 101,
   "id": "053d76e4",
   "metadata": {},
   "outputs": [
    {
     "name": "stdout",
     "output_type": "stream",
     "text": [
      "Precision score: 58.82352941176471\n",
      "Recall score: 23.952095808383234\n"
     ]
    }
   ],
   "source": [
    "from sklearn.metrics import precision_score\n",
    "from sklearn.metrics import recall_score\n",
    "def scores(attrition, prediction):\n",
    "    precision = precision_score(attrition, prediction)\n",
    "    recall = recall_score(attrition, prediction)\n",
    "    print(\"Precision score: {}\\nRecall score: {}\".format(precision*100, recall*100))\n",
    "\n",
    "scores(y_train_pred_final.Attrition,y_train_pred_final.predicted)"
   ]
  },
  {
   "cell_type": "code",
   "execution_count": 52,
   "id": "23c95868",
   "metadata": {},
   "outputs": [
    {
     "name": "stdout",
     "output_type": "stream",
     "text": [
      "Precision score: 35.41666666666667\n",
      "Recall score: 61.07784431137725\n"
     ]
    }
   ],
   "source": [
    "# Probability cut off of 0.2\n",
    "scores(y_train_pred_final.Attrition,y_train_pred_final.predicted_2)"
   ]
  },
  {
   "cell_type": "code",
   "execution_count": 53,
   "id": "9b3793e2",
   "metadata": {},
   "outputs": [
    {
     "name": "stdout",
     "output_type": "stream",
     "text": [
      "Precision score: 27.572016460905353\n",
      "Recall score: 80.23952095808383\n"
     ]
    }
   ],
   "source": [
    "# Probability cut off of 0.1\n",
    "scores(y_train_pred_final.Attrition,y_train_pred_final.predicted_1)"
   ]
  },
  {
   "cell_type": "markdown",
   "id": "c04344e6",
   "metadata": {},
   "source": [
    "#### Using the probability cut off of 0.1 is gives the best recall"
   ]
  },
  {
   "cell_type": "code",
   "execution_count": 54,
   "id": "58b457da",
   "metadata": {},
   "outputs": [
    {
     "data": {
      "text/html": [
       "<div>\n",
       "<style scoped>\n",
       "    .dataframe tbody tr th:only-of-type {\n",
       "        vertical-align: middle;\n",
       "    }\n",
       "\n",
       "    .dataframe tbody tr th {\n",
       "        vertical-align: top;\n",
       "    }\n",
       "\n",
       "    .dataframe thead th {\n",
       "        text-align: right;\n",
       "    }\n",
       "</style>\n",
       "<table border=\"1\" class=\"dataframe\">\n",
       "  <thead>\n",
       "    <tr style=\"text-align: right;\">\n",
       "      <th></th>\n",
       "      <th>Features</th>\n",
       "      <th>VIF</th>\n",
       "    </tr>\n",
       "  </thead>\n",
       "  <tbody>\n",
       "    <tr>\n",
       "      <th>2</th>\n",
       "      <td>Department_Research &amp; Development</td>\n",
       "      <td>1.88</td>\n",
       "    </tr>\n",
       "    <tr>\n",
       "      <th>3</th>\n",
       "      <td>JobRole_Laboratory Technician</td>\n",
       "      <td>1.38</td>\n",
       "    </tr>\n",
       "    <tr>\n",
       "      <th>4</th>\n",
       "      <td>MaritalStatus_Single</td>\n",
       "      <td>1.30</td>\n",
       "    </tr>\n",
       "    <tr>\n",
       "      <th>0</th>\n",
       "      <td>OverTime</td>\n",
       "      <td>1.27</td>\n",
       "    </tr>\n",
       "    <tr>\n",
       "      <th>1</th>\n",
       "      <td>BusinessTravel_Travel_Frequently</td>\n",
       "      <td>1.18</td>\n",
       "    </tr>\n",
       "  </tbody>\n",
       "</table>\n",
       "</div>"
      ],
      "text/plain": [
       "                            Features   VIF\n",
       "2  Department_Research & Development  1.88\n",
       "3      JobRole_Laboratory Technician  1.38\n",
       "4               MaritalStatus_Single  1.30\n",
       "0                           OverTime  1.27\n",
       "1   BusinessTravel_Travel_Frequently  1.18"
      ]
     },
     "execution_count": 54,
     "metadata": {},
     "output_type": "execute_result"
    }
   ],
   "source": [
    "from statsmodels.stats.outliers_influence import variance_inflation_factor\n",
    "vif = pd.DataFrame()\n",
    "vif['Features'] = X_train[col].columns\n",
    "vif['VIF'] = [variance_inflation_factor(X_train[col].values,i) for i in range(X_train[col].shape[1])]\n",
    "vif['VIF'] = round(vif['VIF'],2)\n",
    "vif = vif.sort_values(by=\"VIF\", ascending = False)\n",
    "vif"
   ]
  },
  {
   "cell_type": "markdown",
   "id": "b9d6a6f1",
   "metadata": {},
   "source": [
    "### ROC Curve from Model 1"
   ]
  },
  {
   "cell_type": "code",
   "execution_count": 55,
   "id": "af4f0f0d",
   "metadata": {},
   "outputs": [],
   "source": [
    "def draw_roc( actual, probs ):\n",
    "    fpr, tpr, thresholds = metrics.roc_curve( actual, probs,\n",
    "                                              drop_intermediate = False )\n",
    "    auc_score = metrics.roc_auc_score( actual, probs )\n",
    "    plt.figure(figsize=(5, 5))\n",
    "    plt.plot( fpr, tpr, label='ROC curve (area = %0.2f)' % auc_score )\n",
    "    plt.plot([0, 1], [0, 1], 'k--')\n",
    "    plt.xlim([0.0, 1.0])\n",
    "    plt.ylim([0.0, 1.05])\n",
    "    plt.xlabel('False Positive Rate or [1 - True Negative Rate]')\n",
    "    plt.ylabel('True Positive Rate')\n",
    "    plt.title('Receiver operating characteristic example')\n",
    "    plt.legend(loc=\"lower right\")\n",
    "    plt.show()\n",
    "\n",
    "    return None"
   ]
  },
  {
   "cell_type": "code",
   "execution_count": 56,
   "id": "73ebf4db",
   "metadata": {},
   "outputs": [
    {
     "data": {
      "image/png": "[encoded data removed]",
      "text/plain": [
       "<Figure size 360x360 with 1 Axes>"
      ]
     },
     "metadata": {},
     "output_type": "display_data"
    }
   ],
   "source": [
    "fpr, tpr, thresholds = metrics.roc_curve( y_train_pred_final.Attrition, y_train_pred_final.Attrition_Prob, drop_intermediate = False)\n",
    "draw_roc(y_train_pred_final.Attrition, y_train_pred_final.Attrition_Prob)"
   ]
  },
  {
   "cell_type": "code",
   "execution_count": 57,
   "id": "70331b1d",
   "metadata": {},
   "outputs": [
    {
     "data": {
      "text/html": [
       "<div>\n",
       "<style scoped>\n",
       "    .dataframe tbody tr th:only-of-type {\n",
       "        vertical-align: middle;\n",
       "    }\n",
       "\n",
       "    .dataframe tbody tr th {\n",
       "        vertical-align: top;\n",
       "    }\n",
       "\n",
       "    .dataframe thead th {\n",
       "        text-align: right;\n",
       "    }\n",
       "</style>\n",
       "<table border=\"1\" class=\"dataframe\">\n",
       "  <thead>\n",
       "    <tr style=\"text-align: right;\">\n",
       "      <th></th>\n",
       "      <th>Attrition</th>\n",
       "      <th>Attrition_Prob</th>\n",
       "      <th>Employee Number</th>\n",
       "      <th>predicted</th>\n",
       "      <th>predicted_2</th>\n",
       "      <th>predicted_1</th>\n",
       "      <th>0.0</th>\n",
       "      <th>0.1</th>\n",
       "      <th>0.2</th>\n",
       "      <th>0.3</th>\n",
       "      <th>0.4</th>\n",
       "      <th>0.5</th>\n",
       "      <th>0.6</th>\n",
       "      <th>0.7</th>\n",
       "      <th>0.8</th>\n",
       "      <th>0.9</th>\n",
       "    </tr>\n",
       "  </thead>\n",
       "  <tbody>\n",
       "    <tr>\n",
       "      <th>0</th>\n",
       "      <td>0</td>\n",
       "      <td>0.070974</td>\n",
       "      <td>178</td>\n",
       "      <td>0</td>\n",
       "      <td>0</td>\n",
       "      <td>0</td>\n",
       "      <td>1</td>\n",
       "      <td>0</td>\n",
       "      <td>0</td>\n",
       "      <td>0</td>\n",
       "      <td>0</td>\n",
       "      <td>0</td>\n",
       "      <td>0</td>\n",
       "      <td>0</td>\n",
       "      <td>0</td>\n",
       "      <td>0</td>\n",
       "    </tr>\n",
       "    <tr>\n",
       "      <th>1</th>\n",
       "      <td>0</td>\n",
       "      <td>0.078096</td>\n",
       "      <td>971</td>\n",
       "      <td>0</td>\n",
       "      <td>0</td>\n",
       "      <td>0</td>\n",
       "      <td>1</td>\n",
       "      <td>0</td>\n",
       "      <td>0</td>\n",
       "      <td>0</td>\n",
       "      <td>0</td>\n",
       "      <td>0</td>\n",
       "      <td>0</td>\n",
       "      <td>0</td>\n",
       "      <td>0</td>\n",
       "      <td>0</td>\n",
       "    </tr>\n",
       "    <tr>\n",
       "      <th>2</th>\n",
       "      <td>0</td>\n",
       "      <td>0.174142</td>\n",
       "      <td>1172</td>\n",
       "      <td>0</td>\n",
       "      <td>0</td>\n",
       "      <td>1</td>\n",
       "      <td>1</td>\n",
       "      <td>1</td>\n",
       "      <td>0</td>\n",
       "      <td>0</td>\n",
       "      <td>0</td>\n",
       "      <td>0</td>\n",
       "      <td>0</td>\n",
       "      <td>0</td>\n",
       "      <td>0</td>\n",
       "      <td>0</td>\n",
       "    </tr>\n",
       "    <tr>\n",
       "      <th>3</th>\n",
       "      <td>1</td>\n",
       "      <td>0.350901</td>\n",
       "      <td>667</td>\n",
       "      <td>0</td>\n",
       "      <td>1</td>\n",
       "      <td>1</td>\n",
       "      <td>1</td>\n",
       "      <td>1</td>\n",
       "      <td>1</td>\n",
       "      <td>1</td>\n",
       "      <td>0</td>\n",
       "      <td>0</td>\n",
       "      <td>0</td>\n",
       "      <td>0</td>\n",
       "      <td>0</td>\n",
       "      <td>0</td>\n",
       "    </tr>\n",
       "    <tr>\n",
       "      <th>4</th>\n",
       "      <td>0</td>\n",
       "      <td>0.099973</td>\n",
       "      <td>399</td>\n",
       "      <td>0</td>\n",
       "      <td>0</td>\n",
       "      <td>0</td>\n",
       "      <td>1</td>\n",
       "      <td>0</td>\n",
       "      <td>0</td>\n",
       "      <td>0</td>\n",
       "      <td>0</td>\n",
       "      <td>0</td>\n",
       "      <td>0</td>\n",
       "      <td>0</td>\n",
       "      <td>0</td>\n",
       "      <td>0</td>\n",
       "    </tr>\n",
       "  </tbody>\n",
       "</table>\n",
       "</div>"
      ],
      "text/plain": [
       "   Attrition  Attrition_Prob  Employee Number  predicted  predicted_2  \\\n",
       "0          0        0.070974              178          0            0   \n",
       "1          0        0.078096              971          0            0   \n",
       "2          0        0.174142             1172          0            0   \n",
       "3          1        0.350901              667          0            1   \n",
       "4          0        0.099973              399          0            0   \n",
       "\n",
       "   predicted_1  0.0  0.1  0.2  0.3  0.4  0.5  0.6  0.7  0.8  0.9  \n",
       "0            0    1    0    0    0    0    0    0    0    0    0  \n",
       "1            0    1    0    0    0    0    0    0    0    0    0  \n",
       "2            1    1    1    0    0    0    0    0    0    0    0  \n",
       "3            1    1    1    1    1    0    0    0    0    0    0  \n",
       "4            0    1    0    0    0    0    0    0    0    0    0  "
      ]
     },
     "execution_count": 57,
     "metadata": {},
     "output_type": "execute_result"
    }
   ],
   "source": [
    "# Let's create columns with different probability cutoffs \n",
    "numbers = [float(x)/10 for x in range(10)]\n",
    "for i in numbers:\n",
    "    y_train_pred_final[i]= y_train_pred_final.Attrition_Prob.map(lambda x: 1 if x > i else 0)\n",
    "y_train_pred_final.head()"
   ]
  },
  {
   "cell_type": "code",
   "execution_count": 58,
   "id": "e5f62585",
   "metadata": {},
   "outputs": [
    {
     "name": "stdout",
     "output_type": "stream",
     "text": [
      "     prob  accuracy     sensi     speci\n",
      "0.0   0.0  0.162293  1.000000  0.000000\n",
      "0.1   0.1  0.625850  0.802395  0.591647\n",
      "0.2   0.2  0.756074  0.610778  0.784223\n",
      "0.3   0.3  0.841594  0.389222  0.929234\n",
      "0.4   0.4  0.847425  0.299401  0.953596\n",
      "0.5   0.5  0.849368  0.239521  0.967517\n",
      "0.6   0.6  0.847425  0.071856  0.997680\n",
      "0.7   0.7  0.847425  0.071856  0.997680\n",
      "0.8   0.8  0.837707  0.000000  1.000000\n",
      "0.9   0.9  0.837707  0.000000  1.000000\n"
     ]
    }
   ],
   "source": [
    "# Now let's calculate accuracy sensitivity and specificity for various probability cutoffs.\n",
    "cutoff_df = pd.DataFrame( columns = ['prob','accuracy','sensi','speci'])\n",
    "from sklearn.metrics import confusion_matrix\n",
    "\n",
    "num = [0.0,0.1,0.2,0.3,0.4,0.5,0.6,0.7,0.8,0.9]\n",
    "for i in num:\n",
    "    cm1 = metrics.confusion_matrix(y_train_pred_final.Attrition, y_train_pred_final[i] )\n",
    "    total1=sum(sum(cm1))\n",
    "    accuracy = (cm1[0,0]+cm1[1,1])/total1\n",
    "    \n",
    "    speci = cm1[0,0]/(cm1[0,0]+cm1[0,1])\n",
    "    sensi = cm1[1,1]/(cm1[1,0]+cm1[1,1])\n",
    "    cutoff_df.loc[i] =[ i ,accuracy,sensi,speci]\n",
    "print(cutoff_df)"
   ]
  },
  {
   "cell_type": "code",
   "execution_count": 59,
   "id": "5d6f54c9",
   "metadata": {},
   "outputs": [
    {
     "data": {
      "image/png": "[encoded data removed]",
      "text/plain": [
       "<Figure size 432x288 with 1 Axes>"
      ]
     },
     "metadata": {},
     "output_type": "display_data"
    }
   ],
   "source": [
    "# Let's plot accuracy sensitivity and specificity for various probabilities.\n",
    "cutoff_df.plot.line(x='prob', y=['accuracy','sensi','speci'])\n",
    "plt.show()"
   ]
  },
  {
   "cell_type": "markdown",
   "id": "5835e139",
   "metadata": {},
   "source": [
    "#### Making predictions on the test set"
   ]
  },
  {
   "cell_type": "code",
   "execution_count": 60,
   "id": "dfe14e80",
   "metadata": {},
   "outputs": [
    {
     "data": {
      "text/html": [
       "<div>\n",
       "<style scoped>\n",
       "    .dataframe tbody tr th:only-of-type {\n",
       "        vertical-align: middle;\n",
       "    }\n",
       "\n",
       "    .dataframe tbody tr th {\n",
       "        vertical-align: top;\n",
       "    }\n",
       "\n",
       "    .dataframe thead th {\n",
       "        text-align: right;\n",
       "    }\n",
       "</style>\n",
       "<table border=\"1\" class=\"dataframe\">\n",
       "  <thead>\n",
       "    <tr style=\"text-align: right;\">\n",
       "      <th></th>\n",
       "      <th>Age</th>\n",
       "      <th>DailyRate</th>\n",
       "      <th>DistanceFromHome</th>\n",
       "      <th>Education</th>\n",
       "      <th>EmployeeCount</th>\n",
       "      <th>EmployeeNumber</th>\n",
       "      <th>EnvironmentSatisfaction</th>\n",
       "      <th>HourlyRate</th>\n",
       "      <th>JobInvolvement</th>\n",
       "      <th>JobLevel</th>\n",
       "      <th>JobSatisfaction</th>\n",
       "      <th>MonthlyIncome</th>\n",
       "      <th>MonthlyRate</th>\n",
       "      <th>NumCompaniesWorked</th>\n",
       "      <th>OverTime</th>\n",
       "      <th>PercentSalaryHike</th>\n",
       "      <th>PerformanceRating</th>\n",
       "      <th>RelationshipSatisfaction</th>\n",
       "      <th>StockOptionLevel</th>\n",
       "      <th>TotalWorkingYears</th>\n",
       "      <th>TrainingTimesLastYear</th>\n",
       "      <th>WorkLifeBalance</th>\n",
       "      <th>YearsAtCompany</th>\n",
       "      <th>YearsInCurrentRole</th>\n",
       "      <th>YearsSinceLastPromotion</th>\n",
       "      <th>YearsWithCurrManager</th>\n",
       "      <th>BusinessTravel_Non-Travel</th>\n",
       "      <th>BusinessTravel_Travel_Frequently</th>\n",
       "      <th>BusinessTravel_Travel_Rarely</th>\n",
       "      <th>Department_Human Resources</th>\n",
       "      <th>Department_Research &amp; Development</th>\n",
       "      <th>Department_Sales</th>\n",
       "      <th>EducationField_Human Resources</th>\n",
       "      <th>EducationField_Life Sciences</th>\n",
       "      <th>EducationField_Marketing</th>\n",
       "      <th>EducationField_Medical</th>\n",
       "      <th>EducationField_Other</th>\n",
       "      <th>EducationField_Technical Degree</th>\n",
       "      <th>Gender_Female</th>\n",
       "      <th>Gender_Male</th>\n",
       "      <th>JobRole_Healthcare Representative</th>\n",
       "      <th>JobRole_Human Resources</th>\n",
       "      <th>JobRole_Laboratory Technician</th>\n",
       "      <th>JobRole_Manager</th>\n",
       "      <th>JobRole_Manufacturing Director</th>\n",
       "      <th>JobRole_Research Director</th>\n",
       "      <th>JobRole_Research Scientist</th>\n",
       "      <th>JobRole_Sales Executive</th>\n",
       "      <th>JobRole_Sales Representative</th>\n",
       "      <th>MaritalStatus_Divorced</th>\n",
       "      <th>MaritalStatus_Married</th>\n",
       "      <th>MaritalStatus_Single</th>\n",
       "    </tr>\n",
       "  </thead>\n",
       "  <tbody>\n",
       "    <tr>\n",
       "      <th>880</th>\n",
       "      <td>-0.553414</td>\n",
       "      <td>-1.723456</td>\n",
       "      <td>0.445632</td>\n",
       "      <td>0.095583</td>\n",
       "      <td>0.0</td>\n",
       "      <td>0.353594</td>\n",
       "      <td>0.259652</td>\n",
       "      <td>0.530322</td>\n",
       "      <td>-1.021119</td>\n",
       "      <td>1</td>\n",
       "      <td>2</td>\n",
       "      <td>-0.794977</td>\n",
       "      <td>-0.980180</td>\n",
       "      <td>-0.692427</td>\n",
       "      <td>0</td>\n",
       "      <td>1.282012</td>\n",
       "      <td>2.347905</td>\n",
       "      <td>0.280144</td>\n",
       "      <td>0.216725</td>\n",
       "      <td>-1.218027</td>\n",
       "      <td>-0.626800</td>\n",
       "      <td>0.346410</td>\n",
       "      <td>-0.823956</td>\n",
       "      <td>-0.603279</td>\n",
       "      <td>-0.064850</td>\n",
       "      <td>-0.589081</td>\n",
       "      <td>0</td>\n",
       "      <td>1</td>\n",
       "      <td>0</td>\n",
       "      <td>0</td>\n",
       "      <td>1</td>\n",
       "      <td>0</td>\n",
       "      <td>0</td>\n",
       "      <td>0</td>\n",
       "      <td>0</td>\n",
       "      <td>0</td>\n",
       "      <td>1</td>\n",
       "      <td>0</td>\n",
       "      <td>1</td>\n",
       "      <td>0</td>\n",
       "      <td>0</td>\n",
       "      <td>0</td>\n",
       "      <td>1</td>\n",
       "      <td>0</td>\n",
       "      <td>0</td>\n",
       "      <td>0</td>\n",
       "      <td>0</td>\n",
       "      <td>0</td>\n",
       "      <td>0</td>\n",
       "      <td>0</td>\n",
       "      <td>1</td>\n",
       "      <td>0</td>\n",
       "    </tr>\n",
       "    <tr>\n",
       "      <th>152</th>\n",
       "      <td>1.789136</td>\n",
       "      <td>1.582325</td>\n",
       "      <td>-0.404219</td>\n",
       "      <td>-0.878230</td>\n",
       "      <td>0.0</td>\n",
       "      <td>-1.361529</td>\n",
       "      <td>-0.646049</td>\n",
       "      <td>-1.575308</td>\n",
       "      <td>0.366902</td>\n",
       "      <td>2</td>\n",
       "      <td>3</td>\n",
       "      <td>-0.887901</td>\n",
       "      <td>0.223812</td>\n",
       "      <td>-0.294600</td>\n",
       "      <td>1</td>\n",
       "      <td>1.282012</td>\n",
       "      <td>2.347905</td>\n",
       "      <td>1.204081</td>\n",
       "      <td>0.216725</td>\n",
       "      <td>0.220651</td>\n",
       "      <td>0.157844</td>\n",
       "      <td>-2.482606</td>\n",
       "      <td>0.008249</td>\n",
       "      <td>0.767689</td>\n",
       "      <td>0.550183</td>\n",
       "      <td>0.259888</td>\n",
       "      <td>0</td>\n",
       "      <td>0</td>\n",
       "      <td>1</td>\n",
       "      <td>0</td>\n",
       "      <td>0</td>\n",
       "      <td>1</td>\n",
       "      <td>0</td>\n",
       "      <td>0</td>\n",
       "      <td>1</td>\n",
       "      <td>0</td>\n",
       "      <td>0</td>\n",
       "      <td>0</td>\n",
       "      <td>0</td>\n",
       "      <td>1</td>\n",
       "      <td>0</td>\n",
       "      <td>0</td>\n",
       "      <td>0</td>\n",
       "      <td>0</td>\n",
       "      <td>0</td>\n",
       "      <td>0</td>\n",
       "      <td>0</td>\n",
       "      <td>0</td>\n",
       "      <td>1</td>\n",
       "      <td>0</td>\n",
       "      <td>1</td>\n",
       "      <td>0</td>\n",
       "    </tr>\n",
       "    <tr>\n",
       "      <th>1466</th>\n",
       "      <td>0.227436</td>\n",
       "      <td>-0.478779</td>\n",
       "      <td>-0.404219</td>\n",
       "      <td>-1.852043</td>\n",
       "      <td>0.0</td>\n",
       "      <td>1.733692</td>\n",
       "      <td>1.165353</td>\n",
       "      <td>-1.183563</td>\n",
       "      <td>-1.021119</td>\n",
       "      <td>3</td>\n",
       "      <td>1</td>\n",
       "      <td>0.746245</td>\n",
       "      <td>0.971127</td>\n",
       "      <td>0.501052</td>\n",
       "      <td>0</td>\n",
       "      <td>-0.082479</td>\n",
       "      <td>-0.425912</td>\n",
       "      <td>-1.567729</td>\n",
       "      <td>0.216725</td>\n",
       "      <td>-0.302505</td>\n",
       "      <td>1.727133</td>\n",
       "      <td>0.346410</td>\n",
       "      <td>0.008249</td>\n",
       "      <td>0.767689</td>\n",
       "      <td>-0.372367</td>\n",
       "      <td>0.825868</td>\n",
       "      <td>0</td>\n",
       "      <td>0</td>\n",
       "      <td>1</td>\n",
       "      <td>0</td>\n",
       "      <td>1</td>\n",
       "      <td>0</td>\n",
       "      <td>0</td>\n",
       "      <td>0</td>\n",
       "      <td>0</td>\n",
       "      <td>1</td>\n",
       "      <td>0</td>\n",
       "      <td>0</td>\n",
       "      <td>0</td>\n",
       "      <td>1</td>\n",
       "      <td>1</td>\n",
       "      <td>0</td>\n",
       "      <td>0</td>\n",
       "      <td>0</td>\n",
       "      <td>0</td>\n",
       "      <td>0</td>\n",
       "      <td>0</td>\n",
       "      <td>0</td>\n",
       "      <td>0</td>\n",
       "      <td>0</td>\n",
       "      <td>1</td>\n",
       "      <td>0</td>\n",
       "    </tr>\n",
       "    <tr>\n",
       "      <th>1084</th>\n",
       "      <td>-0.330314</td>\n",
       "      <td>0.417788</td>\n",
       "      <td>-1.011255</td>\n",
       "      <td>0.095583</td>\n",
       "      <td>0.0</td>\n",
       "      <td>0.855296</td>\n",
       "      <td>1.165353</td>\n",
       "      <td>-0.106264</td>\n",
       "      <td>-1.021119</td>\n",
       "      <td>3</td>\n",
       "      <td>3</td>\n",
       "      <td>0.127885</td>\n",
       "      <td>-0.295441</td>\n",
       "      <td>-0.692427</td>\n",
       "      <td>1</td>\n",
       "      <td>-0.355378</td>\n",
       "      <td>-0.425912</td>\n",
       "      <td>1.204081</td>\n",
       "      <td>-0.957013</td>\n",
       "      <td>-0.171716</td>\n",
       "      <td>0.157844</td>\n",
       "      <td>0.346410</td>\n",
       "      <td>0.507573</td>\n",
       "      <td>1.316076</td>\n",
       "      <td>1.780249</td>\n",
       "      <td>0.542878</td>\n",
       "      <td>0</td>\n",
       "      <td>0</td>\n",
       "      <td>1</td>\n",
       "      <td>0</td>\n",
       "      <td>0</td>\n",
       "      <td>1</td>\n",
       "      <td>0</td>\n",
       "      <td>0</td>\n",
       "      <td>0</td>\n",
       "      <td>0</td>\n",
       "      <td>0</td>\n",
       "      <td>1</td>\n",
       "      <td>0</td>\n",
       "      <td>1</td>\n",
       "      <td>0</td>\n",
       "      <td>0</td>\n",
       "      <td>0</td>\n",
       "      <td>0</td>\n",
       "      <td>0</td>\n",
       "      <td>0</td>\n",
       "      <td>0</td>\n",
       "      <td>1</td>\n",
       "      <td>0</td>\n",
       "      <td>0</td>\n",
       "      <td>1</td>\n",
       "      <td>0</td>\n",
       "    </tr>\n",
       "    <tr>\n",
       "      <th>1086</th>\n",
       "      <td>1.454486</td>\n",
       "      <td>-1.180006</td>\n",
       "      <td>1.538298</td>\n",
       "      <td>2.043209</td>\n",
       "      <td>0.0</td>\n",
       "      <td>0.861963</td>\n",
       "      <td>0.259652</td>\n",
       "      <td>1.068971</td>\n",
       "      <td>-2.409140</td>\n",
       "      <td>4</td>\n",
       "      <td>4</td>\n",
       "      <td>1.686118</td>\n",
       "      <td>1.384568</td>\n",
       "      <td>-0.692427</td>\n",
       "      <td>1</td>\n",
       "      <td>-0.628276</td>\n",
       "      <td>-0.425912</td>\n",
       "      <td>1.204081</td>\n",
       "      <td>-0.957013</td>\n",
       "      <td>2.705640</td>\n",
       "      <td>-0.626800</td>\n",
       "      <td>0.346410</td>\n",
       "      <td>4.169277</td>\n",
       "      <td>0.493495</td>\n",
       "      <td>3.317832</td>\n",
       "      <td>1.391847</td>\n",
       "      <td>0</td>\n",
       "      <td>1</td>\n",
       "      <td>0</td>\n",
       "      <td>0</td>\n",
       "      <td>1</td>\n",
       "      <td>0</td>\n",
       "      <td>0</td>\n",
       "      <td>0</td>\n",
       "      <td>0</td>\n",
       "      <td>1</td>\n",
       "      <td>0</td>\n",
       "      <td>0</td>\n",
       "      <td>0</td>\n",
       "      <td>1</td>\n",
       "      <td>0</td>\n",
       "      <td>0</td>\n",
       "      <td>0</td>\n",
       "      <td>0</td>\n",
       "      <td>0</td>\n",
       "      <td>1</td>\n",
       "      <td>0</td>\n",
       "      <td>0</td>\n",
       "      <td>0</td>\n",
       "      <td>0</td>\n",
       "      <td>0</td>\n",
       "      <td>1</td>\n",
       "    </tr>\n",
       "  </tbody>\n",
       "</table>\n",
       "</div>"
      ],
      "text/plain": [
       "           Age  DailyRate  DistanceFromHome  Education  EmployeeCount  \\\n",
       "880  -0.553414  -1.723456          0.445632   0.095583            0.0   \n",
       "152   1.789136   1.582325         -0.404219  -0.878230            0.0   \n",
       "1466  0.227436  -0.478779         -0.404219  -1.852043            0.0   \n",
       "1084 -0.330314   0.417788         -1.011255   0.095583            0.0   \n",
       "1086  1.454486  -1.180006          1.538298   2.043209            0.0   \n",
       "\n",
       "      EmployeeNumber  EnvironmentSatisfaction  HourlyRate  JobInvolvement  \\\n",
       "880         0.353594                 0.259652    0.530322       -1.021119   \n",
       "152        -1.361529                -0.646049   -1.575308        0.366902   \n",
       "1466        1.733692                 1.165353   -1.183563       -1.021119   \n",
       "1084        0.855296                 1.165353   -0.106264       -1.021119   \n",
       "1086        0.861963                 0.259652    1.068971       -2.409140   \n",
       "\n",
       "      JobLevel  JobSatisfaction  MonthlyIncome  MonthlyRate  \\\n",
       "880          1                2      -0.794977    -0.980180   \n",
       "152          2                3      -0.887901     0.223812   \n",
       "1466         3                1       0.746245     0.971127   \n",
       "1084         3                3       0.127885    -0.295441   \n",
       "1086         4                4       1.686118     1.384568   \n",
       "\n",
       "      NumCompaniesWorked  OverTime  PercentSalaryHike  PerformanceRating  \\\n",
       "880            -0.692427         0           1.282012           2.347905   \n",
       "152            -0.294600         1           1.282012           2.347905   \n",
       "1466            0.501052         0          -0.082479          -0.425912   \n",
       "1084           -0.692427         1          -0.355378          -0.425912   \n",
       "1086           -0.692427         1          -0.628276          -0.425912   \n",
       "\n",
       "      RelationshipSatisfaction  StockOptionLevel  TotalWorkingYears  \\\n",
       "880                   0.280144          0.216725          -1.218027   \n",
       "152                   1.204081          0.216725           0.220651   \n",
       "1466                 -1.567729          0.216725          -0.302505   \n",
       "1084                  1.204081         -0.957013          -0.171716   \n",
       "1086                  1.204081         -0.957013           2.705640   \n",
       "\n",
       "      TrainingTimesLastYear  WorkLifeBalance  YearsAtCompany  \\\n",
       "880               -0.626800         0.346410       -0.823956   \n",
       "152                0.157844        -2.482606        0.008249   \n",
       "1466               1.727133         0.346410        0.008249   \n",
       "1084               0.157844         0.346410        0.507573   \n",
       "1086              -0.626800         0.346410        4.169277   \n",
       "\n",
       "      YearsInCurrentRole  YearsSinceLastPromotion  YearsWithCurrManager  \\\n",
       "880            -0.603279                -0.064850             -0.589081   \n",
       "152             0.767689                 0.550183              0.259888   \n",
       "1466            0.767689                -0.372367              0.825868   \n",
       "1084            1.316076                 1.780249              0.542878   \n",
       "1086            0.493495                 3.317832              1.391847   \n",
       "\n",
       "      BusinessTravel_Non-Travel  BusinessTravel_Travel_Frequently  \\\n",
       "880                           0                                 1   \n",
       "152                           0                                 0   \n",
       "1466                          0                                 0   \n",
       "1084                          0                                 0   \n",
       "1086                          0                                 1   \n",
       "\n",
       "      BusinessTravel_Travel_Rarely  Department_Human Resources  \\\n",
       "880                              0                           0   \n",
       "152                              1                           0   \n",
       "1466                             1                           0   \n",
       "1084                             1                           0   \n",
       "1086                             0                           0   \n",
       "\n",
       "      Department_Research & Development  Department_Sales  \\\n",
       "880                                   1                 0   \n",
       "152                                   0                 1   \n",
       "1466                                  1                 0   \n",
       "1084                                  0                 1   \n",
       "1086                                  1                 0   \n",
       "\n",
       "      EducationField_Human Resources  EducationField_Life Sciences  \\\n",
       "880                                0                             0   \n",
       "152                                0                             0   \n",
       "1466                               0                             0   \n",
       "1084                               0                             0   \n",
       "1086                               0                             0   \n",
       "\n",
       "      EducationField_Marketing  EducationField_Medical  EducationField_Other  \\\n",
       "880                          0                       0                     1   \n",
       "152                          1                       0                     0   \n",
       "1466                         0                       1                     0   \n",
       "1084                         0                       0                     0   \n",
       "1086                         0                       1                     0   \n",
       "\n",
       "      EducationField_Technical Degree  Gender_Female  Gender_Male  \\\n",
       "880                                 0              1            0   \n",
       "152                                 0              0            1   \n",
       "1466                                0              0            1   \n",
       "1084                                1              0            1   \n",
       "1086                                0              0            1   \n",
       "\n",
       "      JobRole_Healthcare Representative  JobRole_Human Resources  \\\n",
       "880                                   0                        0   \n",
       "152                                   0                        0   \n",
       "1466                                  1                        0   \n",
       "1084                                  0                        0   \n",
       "1086                                  0                        0   \n",
       "\n",
       "      JobRole_Laboratory Technician  JobRole_Manager  \\\n",
       "880                               1                0   \n",
       "152                               0                0   \n",
       "1466                              0                0   \n",
       "1084                              0                0   \n",
       "1086                              0                0   \n",
       "\n",
       "      JobRole_Manufacturing Director  JobRole_Research Director  \\\n",
       "880                                0                          0   \n",
       "152                                0                          0   \n",
       "1466                               0                          0   \n",
       "1084                               0                          0   \n",
       "1086                               0                          1   \n",
       "\n",
       "      JobRole_Research Scientist  JobRole_Sales Executive  \\\n",
       "880                            0                        0   \n",
       "152                            0                        0   \n",
       "1466                           0                        0   \n",
       "1084                           0                        1   \n",
       "1086                           0                        0   \n",
       "\n",
       "      JobRole_Sales Representative  MaritalStatus_Divorced  \\\n",
       "880                              0                       0   \n",
       "152                              1                       0   \n",
       "1466                             0                       0   \n",
       "1084                             0                       0   \n",
       "1086                             0                       0   \n",
       "\n",
       "      MaritalStatus_Married  MaritalStatus_Single  \n",
       "880                       1                     0  \n",
       "152                       1                     0  \n",
       "1466                      1                     0  \n",
       "1084                      1                     0  \n",
       "1086                      0                     1  "
      ]
     },
     "execution_count": 60,
     "metadata": {},
     "output_type": "execute_result"
    }
   ],
   "source": [
    "# Transforming the X_test\n",
    "X_test[to_scale] = scaler.transform(X_test[to_scale])\n",
    "X_test.head()"
   ]
  },
  {
   "cell_type": "code",
   "execution_count": 64,
   "id": "6af10a7f",
   "metadata": {},
   "outputs": [
    {
     "data": {
      "text/html": [
       "<div>\n",
       "<style scoped>\n",
       "    .dataframe tbody tr th:only-of-type {\n",
       "        vertical-align: middle;\n",
       "    }\n",
       "\n",
       "    .dataframe tbody tr th {\n",
       "        vertical-align: top;\n",
       "    }\n",
       "\n",
       "    .dataframe thead th {\n",
       "        text-align: right;\n",
       "    }\n",
       "</style>\n",
       "<table border=\"1\" class=\"dataframe\">\n",
       "  <thead>\n",
       "    <tr style=\"text-align: right;\">\n",
       "      <th></th>\n",
       "      <th>Attrition</th>\n",
       "      <th>Employee Number</th>\n",
       "      <th>Attrition_Prob</th>\n",
       "    </tr>\n",
       "  </thead>\n",
       "  <tbody>\n",
       "    <tr>\n",
       "      <th>0</th>\n",
       "      <td>0</td>\n",
       "      <td>880</td>\n",
       "      <td>0.213007</td>\n",
       "    </tr>\n",
       "    <tr>\n",
       "      <th>1</th>\n",
       "      <td>0</td>\n",
       "      <td>152</td>\n",
       "      <td>0.271035</td>\n",
       "    </tr>\n",
       "    <tr>\n",
       "      <th>2</th>\n",
       "      <td>0</td>\n",
       "      <td>1466</td>\n",
       "      <td>0.029777</td>\n",
       "    </tr>\n",
       "    <tr>\n",
       "      <th>3</th>\n",
       "      <td>0</td>\n",
       "      <td>1084</td>\n",
       "      <td>0.271035</td>\n",
       "    </tr>\n",
       "    <tr>\n",
       "      <th>4</th>\n",
       "      <td>0</td>\n",
       "      <td>1086</td>\n",
       "      <td>0.501143</td>\n",
       "    </tr>\n",
       "  </tbody>\n",
       "</table>\n",
       "</div>"
      ],
      "text/plain": [
       "   Attrition  Employee Number  Attrition_Prob\n",
       "0          0              880        0.213007\n",
       "1          0              152        0.271035\n",
       "2          0             1466        0.029777\n",
       "3          0             1084        0.271035\n",
       "4          0             1086        0.501143"
      ]
     },
     "execution_count": 64,
     "metadata": {},
     "output_type": "execute_result"
    }
   ],
   "source": [
    "X_test = X_test[col]\n",
    "X_test_sm = sm.add_constant(X_test)\n",
    "y_test_pred = res.predict(X_test_sm)\n",
    "y_pred_1 = pd.DataFrame(y_test_pred)\n",
    "y_test_df = pd.DataFrame(y_test)\n",
    "y_test_df['Employee Number'] = y_test_df.index\n",
    "y_pred_1.reset_index(drop=True, inplace=True)\n",
    "y_test_df.reset_index(drop=True, inplace=True)\n",
    "y_pred_final = pd.concat([y_test_df, y_pred_1],axis=1)\n",
    "y_pred_final = y_pred_final.rename(columns={0:'Attrition_Prob'})\n",
    "y_pred_final.head()"
   ]
  },
  {
   "cell_type": "markdown",
   "id": "579bc4f7",
   "metadata": {},
   "source": [
    "#### Using 0.1 as the cutoff probability"
   ]
  },
  {
   "cell_type": "code",
   "execution_count": 65,
   "id": "26c26e3c",
   "metadata": {},
   "outputs": [
    {
     "name": "stdout",
     "output_type": "stream",
     "text": [
      "0.6031746031746031\n",
      "[[216 155]\n",
      " [ 20  50]]\n"
     ]
    }
   ],
   "source": [
    "y_pred_final['final_predicted'] = y_pred_final['Attrition_Prob'].map(lambda x:1 if x>0.1 else 0)\n",
    "print(metrics.accuracy_score(y_pred_final.Attrition, y_pred_final.final_predicted))\n",
    "\n",
    "# Confusion matrix\n",
    "confusion = metrics.confusion_matrix(y_pred_final.Attrition, y_pred_final.final_predicted)\n",
    "print(confusion)"
   ]
  },
  {
   "cell_type": "code",
   "execution_count": 68,
   "id": "a7cbd3e5",
   "metadata": {},
   "outputs": [
    {
     "name": "stdout",
     "output_type": "stream",
     "text": [
      "Precision score: 24.390243902439025\n",
      "Recall score: 71.42857142857143\n"
     ]
    }
   ],
   "source": [
    "scores(y_pred_final.Attrition,y_pred_final.final_predicted)"
   ]
  },
  {
   "cell_type": "markdown",
   "id": "6f731eec",
   "metadata": {},
   "source": [
    "### Handling Class Imbalanced data"
   ]
  },
  {
   "cell_type": "markdown",
   "id": "a6bb1cd3",
   "metadata": {},
   "source": [
    "### 1. Oversampling"
   ]
  },
  {
   "cell_type": "code",
   "execution_count": 70,
   "id": "5f77593f",
   "metadata": {},
   "outputs": [
    {
     "data": {
      "text/plain": [
       "0    866\n",
       "1    866\n",
       "Name: Attrition, dtype: int64"
      ]
     },
     "execution_count": 70,
     "metadata": {},
     "output_type": "execute_result"
    }
   ],
   "source": [
    "# Oversampling - adding more data to the minority class\n",
    "\n",
    "from sklearn.utils import resample\n",
    "y = data_dummies.Attrition\n",
    "X = data_dummies.drop('Attrition', axis=1)\n",
    "X_train, X_test, y_train, y_test = train_test_split(X, y, test_size=0.3, random_state = 27)\n",
    "# Concatenating the training data back together\n",
    "X = pd.concat([X_train, y_train], axis=1)\n",
    "not_attrition = X[X.Attrition == 0]\n",
    "attrition = X[X.Attrition == 1]\n",
    "attrition_upsampled = resample(attrition, replace=True, # sample with replacement\n",
    "                              n_samples = len(not_attrition), random_state = 27)\n",
    "upsampled = pd.concat([not_attrition, attrition_upsampled])\n",
    "upsampled.Attrition.value_counts()"
   ]
  },
  {
   "cell_type": "code",
   "execution_count": 71,
   "id": "e45a99f1",
   "metadata": {},
   "outputs": [
    {
     "data": {
      "text/html": [
       "<table class=\"simpletable\">\n",
       "<caption>Generalized Linear Model Regression Results</caption>\n",
       "<tr>\n",
       "  <th>Dep. Variable:</th>       <td>Attrition</td>    <th>  No. Observations:  </th>  <td>  1732</td> \n",
       "</tr>\n",
       "<tr>\n",
       "  <th>Model:</th>                  <td>GLM</td>       <th>  Df Residuals:      </th>  <td>  1726</td> \n",
       "</tr>\n",
       "<tr>\n",
       "  <th>Model Family:</th>        <td>Binomial</td>     <th>  Df Model:          </th>  <td>     5</td> \n",
       "</tr>\n",
       "<tr>\n",
       "  <th>Link Function:</th>         <td>logit</td>      <th>  Scale:             </th> <td>  1.0000</td>\n",
       "</tr>\n",
       "<tr>\n",
       "  <th>Method:</th>                <td>IRLS</td>       <th>  Log-Likelihood:    </th> <td> -1012.7</td>\n",
       "</tr>\n",
       "<tr>\n",
       "  <th>Date:</th>            <td>Thu, 02 Dec 2021</td> <th>  Deviance:          </th> <td>  2025.5</td>\n",
       "</tr>\n",
       "<tr>\n",
       "  <th>Time:</th>                <td>09:44:31</td>     <th>  Pearson chi2:      </th> <td>1.71e+03</td>\n",
       "</tr>\n",
       "<tr>\n",
       "  <th>No. Iterations:</th>          <td>4</td>        <th>                     </th>     <td> </td>   \n",
       "</tr>\n",
       "<tr>\n",
       "  <th>Covariance Type:</th>     <td>nonrobust</td>    <th>                     </th>     <td> </td>   \n",
       "</tr>\n",
       "</table>\n",
       "<table class=\"simpletable\">\n",
       "<tr>\n",
       "                  <td></td>                     <th>coef</th>     <th>std err</th>      <th>z</th>      <th>P>|z|</th>  <th>[0.025</th>    <th>0.975]</th>  \n",
       "</tr>\n",
       "<tr>\n",
       "  <th>const</th>                             <td>   -0.6799</td> <td>    0.105</td> <td>   -6.459</td> <td> 0.000</td> <td>   -0.886</td> <td>   -0.474</td>\n",
       "</tr>\n",
       "<tr>\n",
       "  <th>OverTime</th>                          <td>    1.6265</td> <td>    0.115</td> <td>   14.153</td> <td> 0.000</td> <td>    1.401</td> <td>    1.852</td>\n",
       "</tr>\n",
       "<tr>\n",
       "  <th>BusinessTravel_Travel_Frequently</th>  <td>    0.8344</td> <td>    0.130</td> <td>    6.430</td> <td> 0.000</td> <td>    0.580</td> <td>    1.089</td>\n",
       "</tr>\n",
       "<tr>\n",
       "  <th>Department_Research & Development</th> <td>   -0.9959</td> <td>    0.123</td> <td>   -8.088</td> <td> 0.000</td> <td>   -1.237</td> <td>   -0.755</td>\n",
       "</tr>\n",
       "<tr>\n",
       "  <th>JobRole_Laboratory Technician</th>     <td>    0.9840</td> <td>    0.148</td> <td>    6.661</td> <td> 0.000</td> <td>    0.694</td> <td>    1.274</td>\n",
       "</tr>\n",
       "<tr>\n",
       "  <th>MaritalStatus_Single</th>              <td>    0.7574</td> <td>    0.112</td> <td>    6.742</td> <td> 0.000</td> <td>    0.537</td> <td>    0.978</td>\n",
       "</tr>\n",
       "</table>"
      ],
      "text/plain": [
       "<class 'statsmodels.iolib.summary.Summary'>\n",
       "\"\"\"\n",
       "                 Generalized Linear Model Regression Results                  \n",
       "==============================================================================\n",
       "Dep. Variable:              Attrition   No. Observations:                 1732\n",
       "Model:                            GLM   Df Residuals:                     1726\n",
       "Model Family:                Binomial   Df Model:                            5\n",
       "Link Function:                  logit   Scale:                          1.0000\n",
       "Method:                          IRLS   Log-Likelihood:                -1012.7\n",
       "Date:                Thu, 02 Dec 2021   Deviance:                       2025.5\n",
       "Time:                        09:44:31   Pearson chi2:                 1.71e+03\n",
       "No. Iterations:                     4                                         \n",
       "Covariance Type:            nonrobust                                         \n",
       "=====================================================================================================\n",
       "                                        coef    std err          z      P>|z|      [0.025      0.975]\n",
       "-----------------------------------------------------------------------------------------------------\n",
       "const                                -0.6799      0.105     -6.459      0.000      -0.886      -0.474\n",
       "OverTime                              1.6265      0.115     14.153      0.000       1.401       1.852\n",
       "BusinessTravel_Travel_Frequently      0.8344      0.130      6.430      0.000       0.580       1.089\n",
       "Department_Research & Development    -0.9959      0.123     -8.088      0.000      -1.237      -0.755\n",
       "JobRole_Laboratory Technician         0.9840      0.148      6.661      0.000       0.694       1.274\n",
       "MaritalStatus_Single                  0.7574      0.112      6.742      0.000       0.537       0.978\n",
       "=====================================================================================================\n",
       "\"\"\""
      ]
     },
     "execution_count": 71,
     "metadata": {},
     "output_type": "execute_result"
    }
   ],
   "source": [
    "# Checking the accuracy of the model using the dataset: upsampled\n",
    "X_train = upsampled.drop(\"Attrition\",axis=1)\n",
    "y_train = upsampled.Attrition\n",
    "\n",
    "upsampled_sm = sm.add_constant(X_train[col])\n",
    "logm4 = sm.GLM(y_train, upsampled_sm, family = sm.families.Binomial())\n",
    "res = logm4.fit()\n",
    "res.summary()"
   ]
  },
  {
   "cell_type": "code",
   "execution_count": 73,
   "id": "87be560f",
   "metadata": {},
   "outputs": [
    {
     "name": "stdout",
     "output_type": "stream",
     "text": [
      "Using 0.5 as the criteria:  0.674364896073903\n",
      "Using 0.2 as the criteria:  0.5964203233256351\n",
      "Using 0.1 as the criteria:  0.5\n"
     ]
    }
   ],
   "source": [
    "y_train_pred = res.predict(upsampled_sm).values.reshape(-1)\n",
    "y_train_pred_final_v1 = pd.DataFrame({'Attrition':y_train.values, 'Attrition_Prob':y_train_pred})\n",
    "\n",
    "y_train_pred_final_v1['predicted'] = y_train_pred_final_v1.Attrition_Prob.map(lambda x: 1 if x > 0.5 else 0)\n",
    "y_train_pred_final_v1['predicted_1'] = y_train_pred_final_v1.Attrition_Prob.map(lambda x: 1 if x > 0.1 else 0)\n",
    "y_train_pred_final_v1['predicted_2'] = y_train_pred_final_v1.Attrition_Prob.map(lambda x: 1 if x > 0.2 else 0)\n",
    "\n",
    "# Checking each of these columns' accuracies\n",
    "print(\"Using 0.5 as the criteria: \",metrics.accuracy_score(y_train_pred_final_v1.Attrition, y_train_pred_final_v1.predicted))\n",
    "print(\"Using 0.2 as the criteria: \",metrics.accuracy_score(y_train_pred_final_v1.Attrition, y_train_pred_final_v1.predicted_2))\n",
    "print(\"Using 0.1 as the criteria: \",metrics.accuracy_score(y_train_pred_final_v1.Attrition, y_train_pred_final_v1.predicted_1))"
   ]
  },
  {
   "cell_type": "code",
   "execution_count": 78,
   "id": "806c1470",
   "metadata": {},
   "outputs": [
    {
     "name": "stdout",
     "output_type": "stream",
     "text": [
      "Precision score: 55.47540983606557\n",
      "Recall score: 97.6905311778291\n",
      "[[187 679]\n",
      " [ 20 846]]\n"
     ]
    }
   ],
   "source": [
    "# Checking with probability cut off of 0.2\n",
    "scores(y_train_pred_final_v1.Attrition, y_train_pred_final_v1.predicted_2)\n",
    "confusion = metrics.confusion_matrix(y_train_pred_final_v1.Attrition, y_train_pred_final_v1.predicted_2)\n",
    "print(confusion)"
   ]
  },
  {
   "cell_type": "code",
   "execution_count": 79,
   "id": "cb3b605e",
   "metadata": {},
   "outputs": [
    {
     "name": "stdout",
     "output_type": "stream",
     "text": [
      "Precision score: 50.0\n",
      "Recall score: 100.0\n",
      "[[  0 866]\n",
      " [  0 866]]\n"
     ]
    }
   ],
   "source": [
    "# Checking with probability cut off of 0.1\n",
    "scores(y_train_pred_final_v1.Attrition, y_train_pred_final_v1.predicted_1)\n",
    "confusion = metrics.confusion_matrix(y_train_pred_final_v1.Attrition, y_train_pred_final_v1.predicted_1)\n",
    "print(confusion)"
   ]
  },
  {
   "cell_type": "markdown",
   "id": "f84611d5",
   "metadata": {},
   "source": [
    "### ROC Curve from Model 2"
   ]
  },
  {
   "cell_type": "code",
   "execution_count": 103,
   "id": "12d1686c",
   "metadata": {},
   "outputs": [
    {
     "data": {
      "image/png": "[encoded data removed]",
      "text/plain": [
       "<Figure size 360x360 with 1 Axes>"
      ]
     },
     "metadata": {},
     "output_type": "display_data"
    }
   ],
   "source": [
    "fpr, tpr, thresholds = metrics.roc_curve( y_train_pred_final_v1.Attrition, \n",
    "                                         y_train_pred_final_v1.Attrition_Prob, drop_intermediate = False)\n",
    "draw_roc(y_train_pred_final_v1.Attrition, y_train_pred_final_v1.Attrition_Prob)"
   ]
  },
  {
   "cell_type": "markdown",
   "id": "cfc24adc",
   "metadata": {},
   "source": [
    "### 2. Undersampling"
   ]
  },
  {
   "cell_type": "code",
   "execution_count": 80,
   "id": "e4422e20",
   "metadata": {},
   "outputs": [
    {
     "data": {
      "text/plain": [
       "0    163\n",
       "1    163\n",
       "Name: Attrition, dtype: int64"
      ]
     },
     "execution_count": 80,
     "metadata": {},
     "output_type": "execute_result"
    }
   ],
   "source": [
    "# Removing some observations of the majority class\n",
    "y = data_dummies.Attrition\n",
    "X = data_dummies.drop('Attrition', axis=1)\n",
    "X_train, X_test, y_train, y_test = train_test_split(X, y, test_size=0.3, random_state = 27)\n",
    "# Concatenating the training data back together\n",
    "X = pd.concat([X_train, y_train], axis=1)\n",
    "not_attrition = X[X.Attrition == 0]\n",
    "attrition = X[X.Attrition == 1]\n",
    "\n",
    "not_attrition_downsampled = resample(not_attrition, replace=False, n_samples = len(attrition), random_state= 27)\n",
    "downsampled = pd.concat([not_attrition_downsampled, attrition])\n",
    "downsampled.Attrition.value_counts()"
   ]
  },
  {
   "cell_type": "code",
   "execution_count": 81,
   "id": "721b1897",
   "metadata": {},
   "outputs": [
    {
     "data": {
      "text/html": [
       "<table class=\"simpletable\">\n",
       "<caption>Generalized Linear Model Regression Results</caption>\n",
       "<tr>\n",
       "  <th>Dep. Variable:</th>       <td>Attrition</td>    <th>  No. Observations:  </th>  <td>   326</td> \n",
       "</tr>\n",
       "<tr>\n",
       "  <th>Model:</th>                  <td>GLM</td>       <th>  Df Residuals:      </th>  <td>   320</td> \n",
       "</tr>\n",
       "<tr>\n",
       "  <th>Model Family:</th>        <td>Binomial</td>     <th>  Df Model:          </th>  <td>     5</td> \n",
       "</tr>\n",
       "<tr>\n",
       "  <th>Link Function:</th>         <td>logit</td>      <th>  Scale:             </th> <td>  1.0000</td>\n",
       "</tr>\n",
       "<tr>\n",
       "  <th>Method:</th>                <td>IRLS</td>       <th>  Log-Likelihood:    </th> <td> -187.85</td>\n",
       "</tr>\n",
       "<tr>\n",
       "  <th>Date:</th>            <td>Thu, 02 Dec 2021</td> <th>  Deviance:          </th> <td>  375.69</td>\n",
       "</tr>\n",
       "<tr>\n",
       "  <th>Time:</th>                <td>09:46:46</td>     <th>  Pearson chi2:      </th>  <td>  317.</td> \n",
       "</tr>\n",
       "<tr>\n",
       "  <th>No. Iterations:</th>          <td>4</td>        <th>                     </th>     <td> </td>   \n",
       "</tr>\n",
       "<tr>\n",
       "  <th>Covariance Type:</th>     <td>nonrobust</td>    <th>                     </th>     <td> </td>   \n",
       "</tr>\n",
       "</table>\n",
       "<table class=\"simpletable\">\n",
       "<tr>\n",
       "                  <td></td>                     <th>coef</th>     <th>std err</th>      <th>z</th>      <th>P>|z|</th>  <th>[0.025</th>    <th>0.975]</th>  \n",
       "</tr>\n",
       "<tr>\n",
       "  <th>const</th>                             <td>   -0.5711</td> <td>    0.246</td> <td>   -2.325</td> <td> 0.020</td> <td>   -1.053</td> <td>   -0.090</td>\n",
       "</tr>\n",
       "<tr>\n",
       "  <th>OverTime</th>                          <td>    1.5753</td> <td>    0.267</td> <td>    5.895</td> <td> 0.000</td> <td>    1.052</td> <td>    2.099</td>\n",
       "</tr>\n",
       "<tr>\n",
       "  <th>BusinessTravel_Travel_Frequently</th>  <td>    0.8229</td> <td>    0.306</td> <td>    2.686</td> <td> 0.007</td> <td>    0.222</td> <td>    1.423</td>\n",
       "</tr>\n",
       "<tr>\n",
       "  <th>Department_Research & Development</th> <td>   -1.1707</td> <td>    0.287</td> <td>   -4.077</td> <td> 0.000</td> <td>   -1.733</td> <td>   -0.608</td>\n",
       "</tr>\n",
       "<tr>\n",
       "  <th>JobRole_Laboratory Technician</th>     <td>    0.8859</td> <td>    0.337</td> <td>    2.625</td> <td> 0.009</td> <td>    0.225</td> <td>    1.547</td>\n",
       "</tr>\n",
       "<tr>\n",
       "  <th>MaritalStatus_Single</th>              <td>    0.9499</td> <td>    0.265</td> <td>    3.586</td> <td> 0.000</td> <td>    0.431</td> <td>    1.469</td>\n",
       "</tr>\n",
       "</table>"
      ],
      "text/plain": [
       "<class 'statsmodels.iolib.summary.Summary'>\n",
       "\"\"\"\n",
       "                 Generalized Linear Model Regression Results                  \n",
       "==============================================================================\n",
       "Dep. Variable:              Attrition   No. Observations:                  326\n",
       "Model:                            GLM   Df Residuals:                      320\n",
       "Model Family:                Binomial   Df Model:                            5\n",
       "Link Function:                  logit   Scale:                          1.0000\n",
       "Method:                          IRLS   Log-Likelihood:                -187.85\n",
       "Date:                Thu, 02 Dec 2021   Deviance:                       375.69\n",
       "Time:                        09:46:46   Pearson chi2:                     317.\n",
       "No. Iterations:                     4                                         \n",
       "Covariance Type:            nonrobust                                         \n",
       "=====================================================================================================\n",
       "                                        coef    std err          z      P>|z|      [0.025      0.975]\n",
       "-----------------------------------------------------------------------------------------------------\n",
       "const                                -0.5711      0.246     -2.325      0.020      -1.053      -0.090\n",
       "OverTime                              1.5753      0.267      5.895      0.000       1.052       2.099\n",
       "BusinessTravel_Travel_Frequently      0.8229      0.306      2.686      0.007       0.222       1.423\n",
       "Department_Research & Development    -1.1707      0.287     -4.077      0.000      -1.733      -0.608\n",
       "JobRole_Laboratory Technician         0.8859      0.337      2.625      0.009       0.225       1.547\n",
       "MaritalStatus_Single                  0.9499      0.265      3.586      0.000       0.431       1.469\n",
       "=====================================================================================================\n",
       "\"\"\""
      ]
     },
     "execution_count": 81,
     "metadata": {},
     "output_type": "execute_result"
    }
   ],
   "source": [
    "# Checking the accuracy of the model using the dataset: upsampled\n",
    "X_train = downsampled.drop(\"Attrition\",axis=1)\n",
    "y_train = downsampled.Attrition\n",
    "\n",
    "downsampled_sm = sm.add_constant(X_train[col])\n",
    "logm4 = sm.GLM(y_train, downsampled_sm, family = sm.families.Binomial())\n",
    "res = logm4.fit()\n",
    "res.summary()"
   ]
  },
  {
   "cell_type": "code",
   "execution_count": 82,
   "id": "2670581c",
   "metadata": {},
   "outputs": [
    {
     "name": "stdout",
     "output_type": "stream",
     "text": [
      "Using 0.5 as the criteria:  0.6748466257668712\n",
      "Using 0.2 as the criteria:  0.6196319018404908\n",
      "Using 0.1 as the criteria:  0.5\n"
     ]
    }
   ],
   "source": [
    "y_train_pred = res.predict(downsampled_sm).values.reshape(-1)\n",
    "y_train_pred_final_v2 = pd.DataFrame({'Attrition':y_train.values, 'Attrition_Prob':y_train_pred})\n",
    "\n",
    "y_train_pred_final_v2['predicted'] = y_train_pred_final_v2.Attrition_Prob.map(lambda x: 1 if x > 0.5 else 0)\n",
    "y_train_pred_final_v2['predicted_2'] = y_train_pred_final_v2.Attrition_Prob.map(lambda x: 1 if x > 0.2 else 0)\n",
    "y_train_pred_final_v2['predicted_1'] = y_train_pred_final_v2.Attrition_Prob.map(lambda x: 1 if x > 0.1 else 0)\n",
    "# Checking each of these columns' accuracies\n",
    "print(\"Using 0.5 as the criteria: \",metrics.accuracy_score(y_train_pred_final_v2.Attrition, y_train_pred_final_v2.predicted))\n",
    "print(\"Using 0.2 as the criteria: \",metrics.accuracy_score(y_train_pred_final_v2.Attrition, y_train_pred_final_v2.predicted_2))\n",
    "print(\"Using 0.1 as the criteria: \",metrics.accuracy_score(y_train_pred_final_v2.Attrition, y_train_pred_final_v2.predicted_1))"
   ]
  },
  {
   "cell_type": "code",
   "execution_count": 83,
   "id": "14abb726",
   "metadata": {},
   "outputs": [
    {
     "name": "stdout",
     "output_type": "stream",
     "text": [
      "Precision score: 67.70186335403726\n",
      "Recall score: 66.87116564417178\n",
      "[[111  52]\n",
      " [ 54 109]]\n"
     ]
    }
   ],
   "source": [
    "# Checking with probability cut off of 0.5\n",
    "scores(y_train_pred_final_v2.Attrition, y_train_pred_final_v2.predicted)\n",
    "confusion = metrics.confusion_matrix(y_train_pred_final_v2.Attrition, y_train_pred_final_v2.predicted)\n",
    "print(confusion)"
   ]
  },
  {
   "cell_type": "code",
   "execution_count": 84,
   "id": "2c8020d5",
   "metadata": {},
   "outputs": [
    {
     "name": "stdout",
     "output_type": "stream",
     "text": [
      "Precision score: 57.03971119133574\n",
      "Recall score: 96.93251533742331\n",
      "[[ 44 119]\n",
      " [  5 158]]\n"
     ]
    }
   ],
   "source": [
    "# Using 0.2 as the cut off\n",
    "scores(y_train_pred_final_v2.Attrition, y_train_pred_final_v2.predicted_2)\n",
    "confusion = metrics.confusion_matrix(y_train_pred_final_v2.Attrition, y_train_pred_final_v2.predicted_2)\n",
    "print(confusion)"
   ]
  },
  {
   "cell_type": "code",
   "execution_count": 85,
   "id": "3a34e61c",
   "metadata": {},
   "outputs": [
    {
     "name": "stdout",
     "output_type": "stream",
     "text": [
      "Precision score: 50.0\n",
      "Recall score: 100.0\n",
      "[[  0 163]\n",
      " [  0 163]]\n"
     ]
    }
   ],
   "source": [
    "# Using 0.1 as the cut off\n",
    "scores(y_train_pred_final_v2.Attrition, y_train_pred_final_v2.predicted_1)\n",
    "confusion = metrics.confusion_matrix(y_train_pred_final_v2.Attrition, y_train_pred_final_v2.predicted_1)\n",
    "print(confusion)"
   ]
  },
  {
   "cell_type": "markdown",
   "id": "c68b0d22",
   "metadata": {},
   "source": [
    "### ROC Curve from Model 3"
   ]
  },
  {
   "cell_type": "code",
   "execution_count": 107,
   "id": "6e3891a2",
   "metadata": {},
   "outputs": [
    {
     "data": {
      "image/png": "[encoded data removed]",
      "text/plain": [
       "<Figure size 360x360 with 1 Axes>"
      ]
     },
     "metadata": {},
     "output_type": "display_data"
    }
   ],
   "source": [
    "fpr, tpr, thresholds = metrics.roc_curve( y_train_pred_final_v2.Attrition, \n",
    "                                         y_train_pred_final_v2.Attrition_Prob, drop_intermediate = False)\n",
    "draw_roc(y_train_pred_final_v2.Attrition, y_train_pred_final_v2.Attrition_Prob)"
   ]
  },
  {
   "cell_type": "markdown",
   "id": "ae99ec22",
   "metadata": {},
   "source": [
    "### 3. Using SMOTE: Synthetic Minority Oversampling Technique"
   ]
  },
  {
   "cell_type": "code",
   "execution_count": 86,
   "id": "8864343f",
   "metadata": {},
   "outputs": [],
   "source": [
    "# conda install -c conda-forge imbalanced-learn"
   ]
  },
  {
   "cell_type": "code",
   "execution_count": 89,
   "id": "f2fd36c1",
   "metadata": {},
   "outputs": [
    {
     "data": {
      "text/html": [
       "<table class=\"simpletable\">\n",
       "<caption>Generalized Linear Model Regression Results</caption>\n",
       "<tr>\n",
       "  <th>Dep. Variable:</th>       <td>Attrition</td>    <th>  No. Observations:  </th>  <td>  1029</td> \n",
       "</tr>\n",
       "<tr>\n",
       "  <th>Model:</th>                  <td>GLM</td>       <th>  Df Residuals:      </th>  <td>  1023</td> \n",
       "</tr>\n",
       "<tr>\n",
       "  <th>Model Family:</th>        <td>Binomial</td>     <th>  Df Model:          </th>  <td>     5</td> \n",
       "</tr>\n",
       "<tr>\n",
       "  <th>Link Function:</th>         <td>logit</td>      <th>  Scale:             </th> <td>  1.0000</td>\n",
       "</tr>\n",
       "<tr>\n",
       "  <th>Method:</th>                <td>IRLS</td>       <th>  Log-Likelihood:    </th> <td> -389.97</td>\n",
       "</tr>\n",
       "<tr>\n",
       "  <th>Date:</th>            <td>Thu, 02 Dec 2021</td> <th>  Deviance:          </th> <td>  779.95</td>\n",
       "</tr>\n",
       "<tr>\n",
       "  <th>Time:</th>                <td>09:51:26</td>     <th>  Pearson chi2:      </th> <td>1.00e+03</td>\n",
       "</tr>\n",
       "<tr>\n",
       "  <th>No. Iterations:</th>          <td>5</td>        <th>                     </th>     <td> </td>   \n",
       "</tr>\n",
       "<tr>\n",
       "  <th>Covariance Type:</th>     <td>nonrobust</td>    <th>                     </th>     <td> </td>   \n",
       "</tr>\n",
       "</table>\n",
       "<table class=\"simpletable\">\n",
       "<tr>\n",
       "                  <td></td>                     <th>coef</th>     <th>std err</th>      <th>z</th>      <th>P>|z|</th>  <th>[0.025</th>    <th>0.975]</th>  \n",
       "</tr>\n",
       "<tr>\n",
       "  <th>const</th>                             <td>   -2.3141</td> <td>    0.188</td> <td>  -12.309</td> <td> 0.000</td> <td>   -2.683</td> <td>   -1.946</td>\n",
       "</tr>\n",
       "<tr>\n",
       "  <th>OverTime</th>                          <td>    1.5191</td> <td>    0.186</td> <td>    8.165</td> <td> 0.000</td> <td>    1.154</td> <td>    1.884</td>\n",
       "</tr>\n",
       "<tr>\n",
       "  <th>BusinessTravel_Travel_Frequently</th>  <td>    0.7321</td> <td>    0.212</td> <td>    3.457</td> <td> 0.001</td> <td>    0.317</td> <td>    1.147</td>\n",
       "</tr>\n",
       "<tr>\n",
       "  <th>Department_Research & Development</th> <td>   -0.9840</td> <td>    0.211</td> <td>   -4.671</td> <td> 0.000</td> <td>   -1.397</td> <td>   -0.571</td>\n",
       "</tr>\n",
       "<tr>\n",
       "  <th>JobRole_Laboratory Technician</th>     <td>    1.0054</td> <td>    0.251</td> <td>    4.000</td> <td> 0.000</td> <td>    0.513</td> <td>    1.498</td>\n",
       "</tr>\n",
       "<tr>\n",
       "  <th>MaritalStatus_Single</th>              <td>    0.7997</td> <td>    0.186</td> <td>    4.289</td> <td> 0.000</td> <td>    0.434</td> <td>    1.165</td>\n",
       "</tr>\n",
       "</table>"
      ],
      "text/plain": [
       "<class 'statsmodels.iolib.summary.Summary'>\n",
       "\"\"\"\n",
       "                 Generalized Linear Model Regression Results                  \n",
       "==============================================================================\n",
       "Dep. Variable:              Attrition   No. Observations:                 1029\n",
       "Model:                            GLM   Df Residuals:                     1023\n",
       "Model Family:                Binomial   Df Model:                            5\n",
       "Link Function:                  logit   Scale:                          1.0000\n",
       "Method:                          IRLS   Log-Likelihood:                -389.97\n",
       "Date:                Thu, 02 Dec 2021   Deviance:                       779.95\n",
       "Time:                        09:51:26   Pearson chi2:                 1.00e+03\n",
       "No. Iterations:                     5                                         \n",
       "Covariance Type:            nonrobust                                         \n",
       "=====================================================================================================\n",
       "                                        coef    std err          z      P>|z|      [0.025      0.975]\n",
       "-----------------------------------------------------------------------------------------------------\n",
       "const                                -2.3141      0.188    -12.309      0.000      -2.683      -1.946\n",
       "OverTime                              1.5191      0.186      8.165      0.000       1.154       1.884\n",
       "BusinessTravel_Travel_Frequently      0.7321      0.212      3.457      0.001       0.317       1.147\n",
       "Department_Research & Development    -0.9840      0.211     -4.671      0.000      -1.397      -0.571\n",
       "JobRole_Laboratory Technician         1.0054      0.251      4.000      0.000       0.513       1.498\n",
       "MaritalStatus_Single                  0.7997      0.186      4.289      0.000       0.434       1.165\n",
       "=====================================================================================================\n",
       "\"\"\""
      ]
     },
     "execution_count": 89,
     "metadata": {},
     "output_type": "execute_result"
    }
   ],
   "source": [
    "# SMOTE uses nearest neighbours to generate new and synthetic data we can use for training\n",
    "from statsmodels.api import add_constant \n",
    "from imblearn.over_sampling import SMOTE\n",
    "\n",
    "y = data_dummies.Attrition\n",
    "X = data_dummies.drop('Attrition', axis=1)\n",
    "X_train, X_test, y_train, y_test = train_test_split(X, y, test_size=0.3, random_state = 27)\n",
    "# Concatenating the training data back together\n",
    "smote = SMOTE(random_state=27)\n",
    "X_train, y_train, smote.fit_resample(X_train, y_train)\n",
    "smote_sm = sm.add_constant(X_train[col])\n",
    "logm5 = sm.GLM(y_train, smote_sm, family = sm.families.Binomial())\n",
    "res = logm5.fit()\n",
    "res.summary()"
   ]
  },
  {
   "cell_type": "code",
   "execution_count": 90,
   "id": "9033b370",
   "metadata": {},
   "outputs": [
    {
     "name": "stdout",
     "output_type": "stream",
     "text": [
      "Using 0.5 as the criteria:  0.8503401360544217\n",
      "Using 0.2 as the criteria:  0.7735665694849369\n",
      "Using 0.1 as the criteria:  0.6268221574344023\n"
     ]
    }
   ],
   "source": [
    "y_train_pred = res.predict(smote_sm).values.reshape(-1)\n",
    "y_train_pred_final_v3 = pd.DataFrame({'Attrition':y_train.values, 'Attrition_Prob':y_train_pred})\n",
    "\n",
    "y_train_pred_final_v3['predicted'] = y_train_pred_final_v3.Attrition_Prob.map(lambda x: 1 if x > 0.5 else 0)\n",
    "y_train_pred_final_v3['predicted_2'] = y_train_pred_final_v3.Attrition_Prob.map(lambda x: 1 if x > 0.2 else 0)\n",
    "y_train_pred_final_v3['predicted_1'] = y_train_pred_final_v3.Attrition_Prob.map(lambda x: 1 if x > 0.1 else 0)\n",
    "# Checking each of these columns' accuracies\n",
    "print(\"Using 0.5 as the criteria: \",metrics.accuracy_score(y_train_pred_final_v3.Attrition, y_train_pred_final_v3.predicted))\n",
    "print(\"Using 0.2 as the criteria: \",metrics.accuracy_score(y_train_pred_final_v3.Attrition, y_train_pred_final_v3.predicted_2))\n",
    "print(\"Using 0.1 as the criteria: \",metrics.accuracy_score(y_train_pred_final_v3.Attrition, y_train_pred_final_v3.predicted_1))"
   ]
  },
  {
   "cell_type": "code",
   "execution_count": 91,
   "id": "e2badadc",
   "metadata": {},
   "outputs": [
    {
     "data": {
      "text/html": [
       "<div>\n",
       "<style scoped>\n",
       "    .dataframe tbody tr th:only-of-type {\n",
       "        vertical-align: middle;\n",
       "    }\n",
       "\n",
       "    .dataframe tbody tr th {\n",
       "        vertical-align: top;\n",
       "    }\n",
       "\n",
       "    .dataframe thead th {\n",
       "        text-align: right;\n",
       "    }\n",
       "</style>\n",
       "<table border=\"1\" class=\"dataframe\">\n",
       "  <thead>\n",
       "    <tr style=\"text-align: right;\">\n",
       "      <th></th>\n",
       "      <th>Attrition</th>\n",
       "      <th>Attrition_Prob</th>\n",
       "      <th>predicted</th>\n",
       "      <th>predicted_2</th>\n",
       "      <th>predicted_1</th>\n",
       "      <th>0.0</th>\n",
       "      <th>0.1</th>\n",
       "      <th>0.2</th>\n",
       "      <th>0.3</th>\n",
       "      <th>0.4</th>\n",
       "      <th>0.5</th>\n",
       "      <th>0.6</th>\n",
       "      <th>0.7</th>\n",
       "      <th>0.8</th>\n",
       "      <th>0.9</th>\n",
       "    </tr>\n",
       "  </thead>\n",
       "  <tbody>\n",
       "    <tr>\n",
       "      <th>0</th>\n",
       "      <td>1</td>\n",
       "      <td>0.089965</td>\n",
       "      <td>0</td>\n",
       "      <td>0</td>\n",
       "      <td>0</td>\n",
       "      <td>1</td>\n",
       "      <td>0</td>\n",
       "      <td>0</td>\n",
       "      <td>0</td>\n",
       "      <td>0</td>\n",
       "      <td>0</td>\n",
       "      <td>0</td>\n",
       "      <td>0</td>\n",
       "      <td>0</td>\n",
       "      <td>0</td>\n",
       "    </tr>\n",
       "    <tr>\n",
       "      <th>1</th>\n",
       "      <td>0</td>\n",
       "      <td>0.091736</td>\n",
       "      <td>0</td>\n",
       "      <td>0</td>\n",
       "      <td>0</td>\n",
       "      <td>1</td>\n",
       "      <td>0</td>\n",
       "      <td>0</td>\n",
       "      <td>0</td>\n",
       "      <td>0</td>\n",
       "      <td>0</td>\n",
       "      <td>0</td>\n",
       "      <td>0</td>\n",
       "      <td>0</td>\n",
       "      <td>0</td>\n",
       "    </tr>\n",
       "    <tr>\n",
       "      <th>2</th>\n",
       "      <td>0</td>\n",
       "      <td>0.091736</td>\n",
       "      <td>0</td>\n",
       "      <td>0</td>\n",
       "      <td>0</td>\n",
       "      <td>1</td>\n",
       "      <td>0</td>\n",
       "      <td>0</td>\n",
       "      <td>0</td>\n",
       "      <td>0</td>\n",
       "      <td>0</td>\n",
       "      <td>0</td>\n",
       "      <td>0</td>\n",
       "      <td>0</td>\n",
       "      <td>0</td>\n",
       "    </tr>\n",
       "    <tr>\n",
       "      <th>3</th>\n",
       "      <td>0</td>\n",
       "      <td>0.035638</td>\n",
       "      <td>0</td>\n",
       "      <td>0</td>\n",
       "      <td>0</td>\n",
       "      <td>1</td>\n",
       "      <td>0</td>\n",
       "      <td>0</td>\n",
       "      <td>0</td>\n",
       "      <td>0</td>\n",
       "      <td>0</td>\n",
       "      <td>0</td>\n",
       "      <td>0</td>\n",
       "      <td>0</td>\n",
       "      <td>0</td>\n",
       "    </tr>\n",
       "    <tr>\n",
       "      <th>4</th>\n",
       "      <td>0</td>\n",
       "      <td>0.173567</td>\n",
       "      <td>0</td>\n",
       "      <td>0</td>\n",
       "      <td>1</td>\n",
       "      <td>1</td>\n",
       "      <td>1</td>\n",
       "      <td>0</td>\n",
       "      <td>0</td>\n",
       "      <td>0</td>\n",
       "      <td>0</td>\n",
       "      <td>0</td>\n",
       "      <td>0</td>\n",
       "      <td>0</td>\n",
       "      <td>0</td>\n",
       "    </tr>\n",
       "  </tbody>\n",
       "</table>\n",
       "</div>"
      ],
      "text/plain": [
       "   Attrition  Attrition_Prob  predicted  predicted_2  predicted_1  0.0  0.1  \\\n",
       "0          1        0.089965          0            0            0    1    0   \n",
       "1          0        0.091736          0            0            0    1    0   \n",
       "2          0        0.091736          0            0            0    1    0   \n",
       "3          0        0.035638          0            0            0    1    0   \n",
       "4          0        0.173567          0            0            1    1    1   \n",
       "\n",
       "   0.2  0.3  0.4  0.5  0.6  0.7  0.8  0.9  \n",
       "0    0    0    0    0    0    0    0    0  \n",
       "1    0    0    0    0    0    0    0    0  \n",
       "2    0    0    0    0    0    0    0    0  \n",
       "3    0    0    0    0    0    0    0    0  \n",
       "4    0    0    0    0    0    0    0    0  "
      ]
     },
     "execution_count": 91,
     "metadata": {},
     "output_type": "execute_result"
    }
   ],
   "source": [
    "# Let's create columns with different probability cutoffs \n",
    "numbers = [float(x)/10 for x in range(10)]\n",
    "for i in numbers:\n",
    "    y_train_pred_final_v3[i]= y_train_pred_final_v3.Attrition_Prob.map(lambda x: 1 if x > i else 0)\n",
    "y_train_pred_final_v3.head()"
   ]
  },
  {
   "cell_type": "code",
   "execution_count": 92,
   "id": "089ba2a7",
   "metadata": {},
   "outputs": [
    {
     "name": "stdout",
     "output_type": "stream",
     "text": [
      "     prob  accuracy     sensi     speci\n",
      "0.0   0.0  0.158406  1.000000  0.000000\n",
      "0.1   0.1  0.626822  0.773006  0.599307\n",
      "0.2   0.2  0.773567  0.509202  0.823326\n",
      "0.3   0.3  0.792031  0.417178  0.862587\n",
      "0.4   0.4  0.843537  0.239264  0.957275\n",
      "0.5   0.5  0.850340  0.171779  0.978060\n",
      "0.6   0.6  0.845481  0.036810  0.997691\n",
      "0.7   0.7  0.841594  0.000000  1.000000\n",
      "0.8   0.8  0.841594  0.000000  1.000000\n",
      "0.9   0.9  0.841594  0.000000  1.000000\n"
     ]
    }
   ],
   "source": [
    "# Now let's calculate accuracy sensitivity and specificity for various probability cutoffs.\n",
    "cutoff_df = pd.DataFrame( columns = ['prob','accuracy','sensi','speci'])\n",
    "num = [0.0,0.1,0.2,0.3,0.4,0.5,0.6,0.7,0.8,0.9]\n",
    "for i in num:\n",
    "    cm1 = metrics.confusion_matrix(y_train_pred_final_v3.Attrition, y_train_pred_final_v3[i] )\n",
    "    total1=sum(sum(cm1))\n",
    "    accuracy = (cm1[0,0]+cm1[1,1])/total1\n",
    "    \n",
    "    speci = cm1[0,0]/(cm1[0,0]+cm1[0,1])\n",
    "    sensi = cm1[1,1]/(cm1[1,0]+cm1[1,1])\n",
    "    cutoff_df.loc[i] =[ i ,accuracy,sensi,speci]\n",
    "print(cutoff_df)"
   ]
  },
  {
   "cell_type": "markdown",
   "id": "589a8774",
   "metadata": {},
   "source": [
    "#### Making predictions on the test set using SMOTE results"
   ]
  },
  {
   "cell_type": "code",
   "execution_count": 93,
   "id": "65508cb4",
   "metadata": {},
   "outputs": [
    {
     "data": {
      "text/html": [
       "<div>\n",
       "<style scoped>\n",
       "    .dataframe tbody tr th:only-of-type {\n",
       "        vertical-align: middle;\n",
       "    }\n",
       "\n",
       "    .dataframe tbody tr th {\n",
       "        vertical-align: top;\n",
       "    }\n",
       "\n",
       "    .dataframe thead th {\n",
       "        text-align: right;\n",
       "    }\n",
       "</style>\n",
       "<table border=\"1\" class=\"dataframe\">\n",
       "  <thead>\n",
       "    <tr style=\"text-align: right;\">\n",
       "      <th></th>\n",
       "      <th>Attrition</th>\n",
       "      <th>Employee Number</th>\n",
       "      <th>0</th>\n",
       "    </tr>\n",
       "  </thead>\n",
       "  <tbody>\n",
       "    <tr>\n",
       "      <th>0</th>\n",
       "      <td>0</td>\n",
       "      <td>143</td>\n",
       "      <td>0.075971</td>\n",
       "    </tr>\n",
       "    <tr>\n",
       "      <th>1</th>\n",
       "      <td>0</td>\n",
       "      <td>680</td>\n",
       "      <td>0.075971</td>\n",
       "    </tr>\n",
       "    <tr>\n",
       "      <th>2</th>\n",
       "      <td>1</td>\n",
       "      <td>2</td>\n",
       "      <td>0.506527</td>\n",
       "    </tr>\n",
       "    <tr>\n",
       "      <th>3</th>\n",
       "      <td>1</td>\n",
       "      <td>0</td>\n",
       "      <td>0.501168</td>\n",
       "    </tr>\n",
       "    <tr>\n",
       "      <th>4</th>\n",
       "      <td>1</td>\n",
       "      <td>777</td>\n",
       "      <td>0.183479</td>\n",
       "    </tr>\n",
       "  </tbody>\n",
       "</table>\n",
       "</div>"
      ],
      "text/plain": [
       "   Attrition  Employee Number         0\n",
       "0          0              143  0.075971\n",
       "1          0              680  0.075971\n",
       "2          1                2  0.506527\n",
       "3          1                0  0.501168\n",
       "4          1              777  0.183479"
      ]
     },
     "execution_count": 93,
     "metadata": {},
     "output_type": "execute_result"
    }
   ],
   "source": [
    "# Transforming the X_test\n",
    "X_test[to_scale] = scaler.transform(X_test[to_scale])\n",
    "X_test = X_test[col]\n",
    "X_test_sm = sm.add_constant(X_test)\n",
    "y_test_pred = res.predict(X_test_sm)\n",
    "y_pred_1 = pd.DataFrame(y_test_pred)\n",
    "y_test_df = pd.DataFrame(y_test)\n",
    "y_test_df['Employee Number'] = y_test_df.index\n",
    "y_pred_1.reset_index(drop=True, inplace=True)\n",
    "y_test_df.reset_index(drop=True, inplace=True)\n",
    "y_pred_final = pd.concat([y_test_df, y_pred_1],axis=1)\n",
    "y_pred_final.head()"
   ]
  },
  {
   "cell_type": "code",
   "execution_count": 94,
   "id": "39402674",
   "metadata": {},
   "outputs": [],
   "source": [
    "y_pred_final = y_pred_final.rename(columns={0:'Attrition_Prob'})\n",
    "y_pred_final['final_predicted'] = y_pred_final['Attrition_Prob'].map(lambda x:1 if x>0.5 else 0)\n",
    "y_pred_final['final_predicted_2'] = y_pred_final['Attrition_Prob'].map(lambda x:1 if x>0.2 else 0)\n",
    "y_pred_final['final_predicted_1'] = y_pred_final['Attrition_Prob'].map(lambda x:1 if x>0.1 else 0)"
   ]
  },
  {
   "cell_type": "code",
   "execution_count": 98,
   "id": "22baf2ea",
   "metadata": {},
   "outputs": [
    {
     "name": "stdout",
     "output_type": "stream",
     "text": [
      "Precision score: 70.83333333333334\n",
      "Recall score: 22.972972972972975\n",
      "[[360   7]\n",
      " [ 57  17]]\n",
      "Accuracy score:  0.854875283446712\n"
     ]
    }
   ],
   "source": [
    "# Confusion matrix and scores with the probability score of 0.5\n",
    "scores(y_pred_final.Attrition, y_pred_final.final_predicted)\n",
    "confusion = metrics.confusion_matrix(y_pred_final.Attrition, y_pred_final.final_predicted)\n",
    "print(confusion)\n",
    "print(\"Accuracy score: \",metrics.accuracy_score(y_pred_final.Attrition, y_pred_final.final_predicted))"
   ]
  },
  {
   "cell_type": "code",
   "execution_count": 99,
   "id": "483fa0e2",
   "metadata": {},
   "outputs": [
    {
     "name": "stdout",
     "output_type": "stream",
     "text": [
      "Precision score: 41.0\n",
      "Recall score: 55.4054054054054\n",
      "[[308  59]\n",
      " [ 33  41]]\n",
      "Accuracy score:  0.7913832199546486\n"
     ]
    }
   ],
   "source": [
    "# Confusion matrix and scores with the probability score of 0.2\n",
    "scores(y_pred_final.Attrition, y_pred_final.final_predicted_2)\n",
    "confusion = metrics.confusion_matrix(y_pred_final.Attrition, y_pred_final.final_predicted_2)\n",
    "print(confusion)\n",
    "print(\"Accuracy score: \",metrics.accuracy_score(y_pred_final.Attrition, y_pred_final.final_predicted_2))"
   ]
  },
  {
   "cell_type": "code",
   "execution_count": 100,
   "id": "5b45f535",
   "metadata": {},
   "outputs": [
    {
     "name": "stdout",
     "output_type": "stream",
     "text": [
      "Precision score: 26.605504587155966\n",
      "Recall score: 78.37837837837837\n",
      "[[207 160]\n",
      " [ 16  58]]\n",
      "Accuracy score:  0.6009070294784581\n"
     ]
    }
   ],
   "source": [
    "# Confusion matrix and scores with the probability score of 0.1\n",
    "scores(y_pred_final.Attrition, y_pred_final.final_predicted_1)\n",
    "confusion = metrics.confusion_matrix(y_pred_final.Attrition, y_pred_final.final_predicted_1)\n",
    "print(confusion)\n",
    "print(\"Accuracy score: \",metrics.accuracy_score(y_pred_final.Attrition, y_pred_final.final_predicted_1))"
   ]
  },
  {
   "cell_type": "markdown",
   "id": "a873b58c",
   "metadata": {},
   "source": [
    "### ROC Curve from Model 4"
   ]
  },
  {
   "cell_type": "code",
   "execution_count": 106,
   "id": "09d575d7",
   "metadata": {},
   "outputs": [
    {
     "data": {
      "image/png": "[encoded data removed]",
      "text/plain": [
       "<Figure size 360x360 with 1 Axes>"
      ]
     },
     "metadata": {},
     "output_type": "display_data"
    }
   ],
   "source": [
    "fpr, tpr, thresholds = metrics.roc_curve( y_train_pred_final_v3.Attrition, \n",
    "                                         y_train_pred_final_v3.Attrition_Prob, drop_intermediate = False)\n",
    "draw_roc(y_train_pred_final_v3.Attrition, y_train_pred_final_v3.Attrition_Prob)"
   ]
  },
  {
   "cell_type": "markdown",
   "id": "840aad39",
   "metadata": {},
   "source": [
    "1. This project recommends oversampling, because this gives the highest recall and lowest precision\n",
    "2. The probability cut off recommended is 0.1 to ensure highest false positives and lowest false negatives"
   ]
  },
  {
   "cell_type": "markdown",
   "id": "2e4a53f1",
   "metadata": {},
   "source": [
    "## The End"
   ]
  }
 ],
 "metadata": {
  "kernelspec": {
   "display_name": "Python 3",
   "language": "python",
   "name": "python3"
  },
  "language_info": {
   "codemirror_mode": {
    "name": "ipython",
    "version": 3
   },
   "file_extension": ".py",
   "mimetype": "text/x-python",
   "name": "python",
   "nbconvert_exporter": "python",
   "pygments_lexer": "ipython3",
   "version": "3.8.5"
  }
 },
 "nbformat": 4,
 "nbformat_minor": 5
}
